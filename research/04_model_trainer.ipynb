{
 "cells": [
  {
   "cell_type": "code",
   "execution_count": 1,
   "metadata": {},
   "outputs": [],
   "source": [
    "import os"
   ]
  },
  {
   "cell_type": "code",
   "execution_count": 2,
   "metadata": {},
   "outputs": [
    {
     "data": {
      "text/plain": [
       "'c:\\\\Users\\\\pc\\\\Desktop\\\\GitHub repos\\\\End-to-end-ML-project-with-MLflow\\\\research'"
      ]
     },
     "execution_count": 2,
     "metadata": {},
     "output_type": "execute_result"
    }
   ],
   "source": [
    "%pwd"
   ]
  },
  {
   "cell_type": "code",
   "execution_count": 3,
   "metadata": {},
   "outputs": [],
   "source": [
    "os.chdir(\"C:/Users/pc/Desktop/GitHub repos/End-to-end-ML-project-with-MLflow\")"
   ]
  },
  {
   "cell_type": "code",
   "execution_count": 4,
   "metadata": {},
   "outputs": [
    {
     "data": {
      "text/plain": [
       "'C:\\\\Users\\\\pc\\\\Desktop\\\\GitHub repos\\\\End-to-end-ML-project-with-MLflow'"
      ]
     },
     "execution_count": 4,
     "metadata": {},
     "output_type": "execute_result"
    }
   ],
   "source": [
    "%pwd"
   ]
  },
  {
   "cell_type": "code",
   "execution_count": 5,
   "metadata": {},
   "outputs": [],
   "source": [
    "from dataclasses import dataclass\n",
    "from pathlib import Path\n",
    "\n",
    "\n",
    "@dataclass(frozen=True)\n",
    "class ModelTrainerConfig:\n",
    "    root_dir: Path\n",
    "    train_data_path: Path\n",
    "    test_data_path: Path\n",
    "    model_name: str\n",
    "    objective: str\n",
    "    metric: str           \n",
    "    boosting_type: str\n",
    "    num_leaves: int\n",
    "    learning_rate: float\n",
    "    feature_fraction: float\n",
    "    n_estimators: int\n",
    "    target_column: str"
   ]
  },
  {
   "cell_type": "code",
   "execution_count": 6,
   "metadata": {},
   "outputs": [],
   "source": [
    "from src.mlProject.constants import *\n",
    "from src.mlProject.utils.common import read_yaml, create_dirs"
   ]
  },
  {
   "cell_type": "code",
   "execution_count": 7,
   "metadata": {},
   "outputs": [],
   "source": [
    "class ConfigurationManager:\n",
    "    def __init__(\n",
    "        self,\n",
    "        config_filepath = CONFIG_FILE_PATH,\n",
    "        params_filepath = PARAMS_FILE_PATH,\n",
    "        schema_filepath = SCHEMA_FILE_PATH):\n",
    "\n",
    "        self.config = read_yaml(config_filepath)\n",
    "        self.params = read_yaml(params_filepath)\n",
    "        self.schema = read_yaml(schema_filepath)\n",
    "\n",
    "        create_dirs([self.config.artifacts_root])\n",
    "\n",
    "\n",
    "    def get_model_trainer_config(self) -> ModelTrainerConfig:\n",
    "        config = self.config.model_trainer\n",
    "        params = self.params.LightGBM\n",
    "        target =  self.schema.TARGET_COLUMN\n",
    "\n",
    "        create_dirs([config.root_dir])\n",
    "\n",
    "        model_trainer_config = ModelTrainerConfig(\n",
    "            root_dir=config.root_dir,\n",
    "            train_data_path = config.train_data_path,\n",
    "            test_data_path = config.test_data_path,\n",
    "            model_name = config.model_name,\n",
    "            objective = params.objective,\n",
    "            metric = params.metric ,           \n",
    "            boosting_type = params.boosting_type,\n",
    "            num_leaves = params.num_leaves,\n",
    "            learning_rate = params.learning_rate,\n",
    "            feature_fraction = params.feature_fraction,\n",
    "            n_estimators = params.n_estimators,\n",
    "            target_column = target.name\n",
    "            \n",
    "        )\n",
    "\n",
    "        return model_trainer_config"
   ]
  },
  {
   "cell_type": "code",
   "execution_count": 8,
   "metadata": {},
   "outputs": [
    {
     "name": "stdout",
     "output_type": "stream",
     "text": [
      "[2025-05-05 21:04:42,746: INFO: common: yaml file: config\\config.yaml loaded successfully]\n",
      "[2025-05-05 21:04:42,750: INFO: common: yaml file: params.yaml loaded successfully]\n",
      "[2025-05-05 21:04:42,753: INFO: common: yaml file: schema.yaml loaded successfully]\n",
      "[2025-05-05 21:04:42,755: INFO: common: created directory at: artifacts]\n",
      "[2025-05-05 21:04:42,756: INFO: common: created directory at: artifacts/model_trainer]\n"
     ]
    }
   ],
   "source": [
    "cm = ConfigurationManager()\n",
    "config = cm.get_model_trainer_config()"
   ]
  },
  {
   "cell_type": "code",
   "execution_count": 9,
   "metadata": {},
   "outputs": [
    {
     "name": "stdout",
     "output_type": "stream",
     "text": [
      "ModelTrainerConfig(root_dir='artifacts/model_trainer', train_data_path='artifacts/data_transformation/train.csv', test_data_path='artifacts/data_transformation/test.csv', model_name='model.joblib', objective='regression_l1', metric='mae', boosting_type='gbdt', num_leaves=31, learning_rate=0.05, feature_fraction=0.9, n_estimators=400, target_column='total_available')\n"
     ]
    }
   ],
   "source": [
    "print(config)"
   ]
  },
  {
   "cell_type": "code",
   "execution_count": 10,
   "metadata": {},
   "outputs": [],
   "source": [
    "import polars as pl\n",
    "import pandas as pd\n",
    "from src.mlProject import logger\n",
    "import joblib\n",
    "import lightgbm as lgb\n",
    "from sklearn.model_selection import TimeSeriesSplit\n",
    "from sklearn.metrics import root_mean_squared_error, mean_absolute_error"
   ]
  },
  {
   "cell_type": "code",
   "execution_count": 16,
   "metadata": {},
   "outputs": [],
   "source": [
    "class ModelTrainer:\n",
    "    def __init__(self, config: ModelTrainerConfig):\n",
    "        self.config = config\n",
    "\n",
    "    def train(self):\n",
    "        # read the train and test datasets using polars since it's faster\n",
    "        train_data = pl.read_csv(self.config.train_data_path)\n",
    "        test_data = pl.read_csv(self.config.test_data_path)\n",
    "\n",
    "        # convert to pandas dataframe since the model handles them better\n",
    "        train_data = train_data.to_pandas() \n",
    "        test_data = test_data.to_pandas()\n",
    "        print(train_data['date'].dtype)\n",
    "\n",
    "        X_train = train_data.drop(['date', self.config.target_column], axis=1)\n",
    "        X_test = test_data.drop(['date', self.config.target_column], axis=1)\n",
    "        y_train = train_data[[self.config.target_column]]\n",
    "        y_test = test_data[[self.config.target_column]]\n",
    "\n",
    "        print(f\"X_train shape: {X_train.shape}, y_train shape: {y_train.shape}\")\n",
    "        print(f\"X_test shape: {X_test.shape}, y_test shape: {y_test.shape}\")\n",
    "\n",
    "        # Create LightGBM Dataset objects\n",
    "        # It automatically detects 'category' dtype columns\n",
    "        lgb_train = lgb.Dataset(X_train, y_train, free_raw_data=False) # Keep raw data if needed later\n",
    "        lgb_eval = lgb.Dataset(X_test, y_test, reference=lgb_train, free_raw_data=False)\n",
    "\n",
    "        # Define model parameters\n",
    "        params = {\n",
    "            'objective': self.config.objective,  \n",
    "            'metric': self.config.metric,              \n",
    "            'boosting_type': self.config.boosting_type,\n",
    "            'num_leaves': self.config.num_leaves,\n",
    "            'learning_rate': self.config.learning_rate,\n",
    "            'feature_fraction': self.config.feature_fraction,\n",
    "            'random_state': 42,\n",
    "            'verbose': -1,  # avoids surpressing training process messages\n",
    "            'n_estimators': self.config.n_estimators,     \n",
    "            'n_jobs': -1   # Use all available CPU cores\n",
    "        }\n",
    "\n",
    "        # Train the model\n",
    "        lgbm = lgb.train(params,\n",
    "                        lgb_train,\n",
    "                        num_boost_round=1000, # Max rounds\n",
    "                        valid_sets=[lgb_train, lgb_eval],\n",
    "                        valid_names=['train', 'eval'],\n",
    "                        callbacks=[lgb.early_stopping(10), lgb.log_evaluation(period=50)])\n",
    "        \n",
    "        joblib.dump(lgbm, os.path.join(self.config.root_dir, self.config.model_name))\n",
    "        logger.info(f\"Model saved to {self.config.root_dir}/{self.config.model_name}\")"
   ]
  },
  {
   "cell_type": "code",
   "execution_count": 17,
   "metadata": {},
   "outputs": [
    {
     "name": "stdout",
     "output_type": "stream",
     "text": [
      "[2025-05-05 21:08:08,478: INFO: common: yaml file: config\\config.yaml loaded successfully]\n",
      "[2025-05-05 21:08:08,482: INFO: common: yaml file: params.yaml loaded successfully]\n",
      "[2025-05-05 21:08:08,486: INFO: common: yaml file: schema.yaml loaded successfully]\n",
      "[2025-05-05 21:08:08,487: INFO: common: created directory at: artifacts]\n",
      "[2025-05-05 21:08:08,488: INFO: common: created directory at: artifacts/model_trainer]\n",
      "object\n",
      "X_train shape: (4043329, 26), y_train shape: (4043329, 1)\n",
      "X_test shape: (212807, 26), y_test shape: (212807, 1)\n",
      "Training until validation scores don't improve for 10 rounds\n",
      "[50]\ttrain's l1: 1.84848\teval's l1: 1.68921\n",
      "[100]\ttrain's l1: 1.47289\teval's l1: 1.48833\n",
      "[150]\ttrain's l1: 1.40354\teval's l1: 1.45945\n",
      "[200]\ttrain's l1: 1.38573\teval's l1: 1.45016\n",
      "[250]\ttrain's l1: 1.37613\teval's l1: 1.44441\n",
      "[300]\ttrain's l1: 1.37174\teval's l1: 1.4417\n",
      "[350]\ttrain's l1: 1.36661\teval's l1: 1.43933\n",
      "[400]\ttrain's l1: 1.36231\teval's l1: 1.43687\n",
      "Did not meet early stopping. Best iteration is:\n",
      "[400]\ttrain's l1: 1.36231\teval's l1: 1.43687\n",
      "[2025-05-05 21:09:12,737: INFO: 989924887: Model saved to artifacts/model_trainer/model.joblib]\n"
     ]
    }
   ],
   "source": [
    "try:\n",
    "    config = ConfigurationManager()\n",
    "    model_trainer_config = config.get_model_trainer_config()\n",
    "    model_trainer_config = ModelTrainer(config=model_trainer_config)\n",
    "    model_trainer_config.train()\n",
    "except Exception as e:\n",
    "    raise e"
   ]
  },
  {
   "cell_type": "code",
   "execution_count": null,
   "metadata": {},
   "outputs": [],
   "source": []
  }
 ],
 "metadata": {
  "kernelspec": {
   "display_name": "stenv",
   "language": "python",
   "name": "python3"
  },
  "language_info": {
   "codemirror_mode": {
    "name": "ipython",
    "version": 3
   },
   "file_extension": ".py",
   "mimetype": "text/x-python",
   "name": "python",
   "nbconvert_exporter": "python",
   "pygments_lexer": "ipython3",
   "version": "3.12.9"
  },
  "orig_nbformat": 4
 },
 "nbformat": 4,
 "nbformat_minor": 2
}
