{
 "cells": [
  {
   "cell_type": "code",
   "execution_count": 12,
   "metadata": {},
   "outputs": [],
   "source": [
    "import polars as pl\n",
    "import numpy as np\n",
    "import matplotlib.pyplot as plt\n",
    "import seaborn as sns"
   ]
  },
  {
   "cell_type": "code",
   "execution_count": 26,
   "metadata": {},
   "outputs": [
    {
     "data": {
      "text/html": [
       "<div><style>\n",
       ".dataframe > thead > tr,\n",
       ".dataframe > tbody > tr {\n",
       "  text-align: right;\n",
       "  white-space: pre-wrap;\n",
       "}\n",
       "</style>\n",
       "<small>shape: (5, 7)</small><table border=\"1\" class=\"dataframe\"><thead><tr><th>datetime</th><th>capacity</th><th>available_mechanical</th><th>available_electrical</th><th>station_name</th><th>station_geo</th><th>operative</th></tr><tr><td>str</td><td>i64</td><td>i64</td><td>i64</td><td>str</td><td>str</td><td>bool</td></tr></thead><tbody><tr><td>&quot;2020-11-26T12:59Z&quot;</td><td>35</td><td>4</td><td>5</td><td>&quot;Benjamin Godard - Victor Hugo&quot;</td><td>&quot;48.86598,2.27572&quot;</td><td>true</td></tr><tr><td>&quot;2020-11-26T12:59Z&quot;</td><td>55</td><td>23</td><td>4</td><td>&quot;André Mazet - Saint-André des …</td><td>&quot;48.85376,2.33910&quot;</td><td>true</td></tr><tr><td>&quot;2020-11-26T12:59Z&quot;</td><td>20</td><td>0</td><td>0</td><td>&quot;Charonne - Robert et Sonia Del…</td><td>&quot;48.85591,2.39257&quot;</td><td>true</td></tr><tr><td>&quot;2020-11-26T12:59Z&quot;</td><td>21</td><td>0</td><td>1</td><td>&quot;Toudouze - Clauzel&quot;</td><td>&quot;48.87930,2.33736&quot;</td><td>true</td></tr><tr><td>&quot;2020-11-26T12:59Z&quot;</td><td>30</td><td>3</td><td>1</td><td>&quot;Mairie du 12ème&quot;</td><td>&quot;48.84086,2.38755&quot;</td><td>true</td></tr></tbody></table></div>"
      ],
      "text/plain": [
       "shape: (5, 7)\n",
       "┌───────────────┬──────────┬──────────────┬──────────────┬──────────────┬──────────────┬───────────┐\n",
       "│ datetime      ┆ capacity ┆ available_me ┆ available_el ┆ station_name ┆ station_geo  ┆ operative │\n",
       "│ ---           ┆ ---      ┆ chanical     ┆ ectrical     ┆ ---          ┆ ---          ┆ ---       │\n",
       "│ str           ┆ i64      ┆ ---          ┆ ---          ┆ str          ┆ str          ┆ bool      │\n",
       "│               ┆          ┆ i64          ┆ i64          ┆              ┆              ┆           │\n",
       "╞═══════════════╪══════════╪══════════════╪══════════════╪══════════════╪══════════════╪═══════════╡\n",
       "│ 2020-11-26T12 ┆ 35       ┆ 4            ┆ 5            ┆ Benjamin     ┆ 48.86598,2.2 ┆ true      │\n",
       "│ :59Z          ┆          ┆              ┆              ┆ Godard -     ┆ 7572         ┆           │\n",
       "│               ┆          ┆              ┆              ┆ Victor Hugo  ┆              ┆           │\n",
       "│ 2020-11-26T12 ┆ 55       ┆ 23           ┆ 4            ┆ André Mazet  ┆ 48.85376,2.3 ┆ true      │\n",
       "│ :59Z          ┆          ┆              ┆              ┆ -            ┆ 3910         ┆           │\n",
       "│               ┆          ┆              ┆              ┆ Saint-André  ┆              ┆           │\n",
       "│               ┆          ┆              ┆              ┆ des …        ┆              ┆           │\n",
       "│ 2020-11-26T12 ┆ 20       ┆ 0            ┆ 0            ┆ Charonne -   ┆ 48.85591,2.3 ┆ true      │\n",
       "│ :59Z          ┆          ┆              ┆              ┆ Robert et    ┆ 9257         ┆           │\n",
       "│               ┆          ┆              ┆              ┆ Sonia Del…   ┆              ┆           │\n",
       "│ 2020-11-26T12 ┆ 21       ┆ 0            ┆ 1            ┆ Toudouze -   ┆ 48.87930,2.3 ┆ true      │\n",
       "│ :59Z          ┆          ┆              ┆              ┆ Clauzel      ┆ 3736         ┆           │\n",
       "│ 2020-11-26T12 ┆ 30       ┆ 3            ┆ 1            ┆ Mairie du    ┆ 48.84086,2.3 ┆ true      │\n",
       "│ :59Z          ┆          ┆              ┆              ┆ 12ème        ┆ 8755         ┆           │\n",
       "└───────────────┴──────────┴──────────────┴──────────────┴──────────────┴──────────────┴───────────┘"
      ]
     },
     "execution_count": 26,
     "metadata": {},
     "output_type": "execute_result"
    }
   ],
   "source": [
    "velib = pl.read_csv(\"C:/Users/pc/Desktop/historique_stations.csv\")\n",
    "velib.head()"
   ]
  },
  {
   "cell_type": "code",
   "execution_count": 27,
   "metadata": {},
   "outputs": [
    {
     "data": {
      "text/html": [
       "<div><style>\n",
       ".dataframe > thead > tr,\n",
       ".dataframe > tbody > tr {\n",
       "  text-align: right;\n",
       "  white-space: pre-wrap;\n",
       "}\n",
       "</style>\n",
       "<small>shape: (5, 7)</small><table border=\"1\" class=\"dataframe\"><thead><tr><th>datetime</th><th>capacity</th><th>available_mechanical</th><th>available_electrical</th><th>station_name</th><th>station_geo</th><th>operative</th></tr><tr><td>str</td><td>i64</td><td>i64</td><td>i64</td><td>str</td><td>str</td><td>bool</td></tr></thead><tbody><tr><td>&quot;2021-04-09T14:37Z&quot;</td><td>38</td><td>4</td><td>2</td><td>&quot;Général Michel Bizot - Claude …</td><td>&quot;48.83481,2.40093&quot;</td><td>true</td></tr><tr><td>&quot;2021-04-09T14:37Z&quot;</td><td>20</td><td>2</td><td>1</td><td>&quot;Ivry - Baudricourt&quot;</td><td>&quot;48.82470,2.36311&quot;</td><td>true</td></tr><tr><td>&quot;2021-04-09T14:37Z&quot;</td><td>39</td><td>17</td><td>0</td><td>&quot;Saint-Mandé - Docteur Arnold N…</td><td>&quot;48.84463,2.40495&quot;</td><td>true</td></tr><tr><td>&quot;2021-04-09T14:37Z&quot;</td><td>21</td><td>12</td><td>4</td><td>&quot;Saint-Marcel - Hôpital&quot;</td><td>&quot;48.83950,2.36099&quot;</td><td>true</td></tr><tr><td>&quot;2021-04-09T14:37Z&quot;</td><td>36</td><td>12</td><td>5</td><td>&quot;Guynemer - Jardin du Luxembour…</td><td>&quot;48.84661,2.33255&quot;</td><td>true</td></tr></tbody></table></div>"
      ],
      "text/plain": [
       "shape: (5, 7)\n",
       "┌───────────────┬──────────┬──────────────┬──────────────┬──────────────┬──────────────┬───────────┐\n",
       "│ datetime      ┆ capacity ┆ available_me ┆ available_el ┆ station_name ┆ station_geo  ┆ operative │\n",
       "│ ---           ┆ ---      ┆ chanical     ┆ ectrical     ┆ ---          ┆ ---          ┆ ---       │\n",
       "│ str           ┆ i64      ┆ ---          ┆ ---          ┆ str          ┆ str          ┆ bool      │\n",
       "│               ┆          ┆ i64          ┆ i64          ┆              ┆              ┆           │\n",
       "╞═══════════════╪══════════╪══════════════╪══════════════╪══════════════╪══════════════╪═══════════╡\n",
       "│ 2021-04-09T14 ┆ 38       ┆ 4            ┆ 2            ┆ Général      ┆ 48.83481,2.4 ┆ true      │\n",
       "│ :37Z          ┆          ┆              ┆              ┆ Michel Bizot ┆ 0093         ┆           │\n",
       "│               ┆          ┆              ┆              ┆ - Claude …   ┆              ┆           │\n",
       "│ 2021-04-09T14 ┆ 20       ┆ 2            ┆ 1            ┆ Ivry -       ┆ 48.82470,2.3 ┆ true      │\n",
       "│ :37Z          ┆          ┆              ┆              ┆ Baudricourt  ┆ 6311         ┆           │\n",
       "│ 2021-04-09T14 ┆ 39       ┆ 17           ┆ 0            ┆ Saint-Mandé  ┆ 48.84463,2.4 ┆ true      │\n",
       "│ :37Z          ┆          ┆              ┆              ┆ - Docteur    ┆ 0495         ┆           │\n",
       "│               ┆          ┆              ┆              ┆ Arnold N…    ┆              ┆           │\n",
       "│ 2021-04-09T14 ┆ 21       ┆ 12           ┆ 4            ┆ Saint-Marcel ┆ 48.83950,2.3 ┆ true      │\n",
       "│ :37Z          ┆          ┆              ┆              ┆ - Hôpital    ┆ 6099         ┆           │\n",
       "│ 2021-04-09T14 ┆ 36       ┆ 12           ┆ 5            ┆ Guynemer -   ┆ 48.84661,2.3 ┆ true      │\n",
       "│ :37Z          ┆          ┆              ┆              ┆ Jardin du    ┆ 3255         ┆           │\n",
       "│               ┆          ┆              ┆              ┆ Luxembour…   ┆              ┆           │\n",
       "└───────────────┴──────────┴──────────────┴──────────────┴──────────────┴──────────────┴───────────┘"
      ]
     },
     "execution_count": 27,
     "metadata": {},
     "output_type": "execute_result"
    }
   ],
   "source": [
    "velib.tail()"
   ]
  },
  {
   "cell_type": "code",
   "execution_count": 43,
   "metadata": {},
   "outputs": [
    {
     "data": {
      "text/html": [
       "<div><style>\n",
       ".dataframe > thead > tr,\n",
       ".dataframe > tbody > tr {\n",
       "  text-align: right;\n",
       "  white-space: pre-wrap;\n",
       "}\n",
       "</style>\n",
       "<small>shape: (9, 10)</small><table border=\"1\" class=\"dataframe\"><thead><tr><th>statistic</th><th>datetime</th><th>station_name</th><th>station_geo</th><th>operative</th><th>capacity</th><th>total_available</th><th>available_mechanical</th><th>available_electrical</th><th>free_terminals</th></tr><tr><td>str</td><td>str</td><td>str</td><td>str</td><td>f64</td><td>f64</td><td>f64</td><td>f64</td><td>f64</td><td>f64</td></tr></thead><tbody><tr><td>&quot;count&quot;</td><td>&quot;10986730&quot;</td><td>&quot;10986730&quot;</td><td>&quot;10986730&quot;</td><td>1.098673e7</td><td>1.098673e7</td><td>1.098673e7</td><td>1.098673e7</td><td>1.098673e7</td><td>1.098673e7</td></tr><tr><td>&quot;null_count&quot;</td><td>&quot;0&quot;</td><td>&quot;0&quot;</td><td>&quot;0&quot;</td><td>0.0</td><td>0.0</td><td>0.0</td><td>0.0</td><td>0.0</td><td>0.0</td></tr><tr><td>&quot;mean&quot;</td><td>null</td><td>null</td><td>null</td><td>0.980206</td><td>31.465766</td><td>11.347427</td><td>7.845411</td><td>3.502016</td><td>20.118339</td></tr><tr><td>&quot;std&quot;</td><td>null</td><td>null</td><td>null</td><td>null</td><td>12.018012</td><td>10.115298</td><td>9.007581</td><td>3.144555</td><td>11.850126</td></tr><tr><td>&quot;min&quot;</td><td>&quot;2020-11-26T12:59Z&quot;</td><td>&quot; Jean Bleuzen - Square du 11 N…</td><td>&quot;48.76462,2.40712&quot;</td><td>0.0</td><td>0.0</td><td>0.0</td><td>0.0</td><td>0.0</td><td>-41.0</td></tr><tr><td>&quot;25%&quot;</td><td>null</td><td>null</td><td>null</td><td>null</td><td>23.0</td><td>4.0</td><td>1.0</td><td>1.0</td><td>12.0</td></tr><tr><td>&quot;50%&quot;</td><td>null</td><td>null</td><td>null</td><td>null</td><td>30.0</td><td>9.0</td><td>5.0</td><td>3.0</td><td>19.0</td></tr><tr><td>&quot;75%&quot;</td><td>null</td><td>null</td><td>null</td><td>null</td><td>37.0</td><td>16.0</td><td>11.0</td><td>5.0</td><td>27.0</td></tr><tr><td>&quot;max&quot;</td><td>&quot;2021-04-09T14:37Z&quot;</td><td>&quot;Île de la Jatte&quot;</td><td>&quot;48.94702,2.25690&quot;</td><td>1.0</td><td>74.0</td><td>74.0</td><td>73.0</td><td>41.0</td><td>71.0</td></tr></tbody></table></div>"
      ],
      "text/plain": [
       "shape: (9, 10)\n",
       "┌───────────┬───────────┬───────────┬───────────┬───┬───────────┬───────────┬───────────┬──────────┐\n",
       "│ statistic ┆ datetime  ┆ station_n ┆ station_g ┆ … ┆ total_ava ┆ available ┆ available ┆ free_ter │\n",
       "│ ---       ┆ ---       ┆ ame       ┆ eo        ┆   ┆ ilable    ┆ _mechanic ┆ _electric ┆ minals   │\n",
       "│ str       ┆ str       ┆ ---       ┆ ---       ┆   ┆ ---       ┆ al        ┆ al        ┆ ---      │\n",
       "│           ┆           ┆ str       ┆ str       ┆   ┆ f64       ┆ ---       ┆ ---       ┆ f64      │\n",
       "│           ┆           ┆           ┆           ┆   ┆           ┆ f64       ┆ f64       ┆          │\n",
       "╞═══════════╪═══════════╪═══════════╪═══════════╪═══╪═══════════╪═══════════╪═══════════╪══════════╡\n",
       "│ count     ┆ 10986730  ┆ 10986730  ┆ 10986730  ┆ … ┆ 1.098673e ┆ 1.098673e ┆ 1.098673e ┆ 1.098673 │\n",
       "│           ┆           ┆           ┆           ┆   ┆ 7         ┆ 7         ┆ 7         ┆ e7       │\n",
       "│ null_coun ┆ 0         ┆ 0         ┆ 0         ┆ … ┆ 0.0       ┆ 0.0       ┆ 0.0       ┆ 0.0      │\n",
       "│ t         ┆           ┆           ┆           ┆   ┆           ┆           ┆           ┆          │\n",
       "│ mean      ┆ null      ┆ null      ┆ null      ┆ … ┆ 11.347427 ┆ 7.845411  ┆ 3.502016  ┆ 20.11833 │\n",
       "│           ┆           ┆           ┆           ┆   ┆           ┆           ┆           ┆ 9        │\n",
       "│ std       ┆ null      ┆ null      ┆ null      ┆ … ┆ 10.115298 ┆ 9.007581  ┆ 3.144555  ┆ 11.85012 │\n",
       "│           ┆           ┆           ┆           ┆   ┆           ┆           ┆           ┆ 6        │\n",
       "│ min       ┆ 2020-11-2 ┆ Jean      ┆ 48.76462, ┆ … ┆ 0.0       ┆ 0.0       ┆ 0.0       ┆ -41.0    │\n",
       "│           ┆ 6T12:59Z  ┆ Bleuzen - ┆ 2.40712   ┆   ┆           ┆           ┆           ┆          │\n",
       "│           ┆           ┆ Square du ┆           ┆   ┆           ┆           ┆           ┆          │\n",
       "│           ┆           ┆ 11 N…     ┆           ┆   ┆           ┆           ┆           ┆          │\n",
       "│ 25%       ┆ null      ┆ null      ┆ null      ┆ … ┆ 4.0       ┆ 1.0       ┆ 1.0       ┆ 12.0     │\n",
       "│ 50%       ┆ null      ┆ null      ┆ null      ┆ … ┆ 9.0       ┆ 5.0       ┆ 3.0       ┆ 19.0     │\n",
       "│ 75%       ┆ null      ┆ null      ┆ null      ┆ … ┆ 16.0      ┆ 11.0      ┆ 5.0       ┆ 27.0     │\n",
       "│ max       ┆ 2021-04-0 ┆ Île de la ┆ 48.94702, ┆ … ┆ 74.0      ┆ 73.0      ┆ 41.0      ┆ 71.0     │\n",
       "│           ┆ 9T14:37Z  ┆ Jatte     ┆ 2.25690   ┆   ┆           ┆           ┆           ┆          │\n",
       "└───────────┴───────────┴───────────┴───────────┴───┴───────────┴───────────┴───────────┴──────────┘"
      ]
     },
     "execution_count": 43,
     "metadata": {},
     "output_type": "execute_result"
    }
   ],
   "source": [
    "# statistical summary\n",
    "velib.describe()"
   ]
  },
  {
   "cell_type": "code",
   "execution_count": 42,
   "metadata": {},
   "outputs": [
    {
     "data": {
      "text/html": [
       "<div><style>\n",
       ".dataframe > thead > tr,\n",
       ".dataframe > tbody > tr {\n",
       "  text-align: right;\n",
       "  white-space: pre-wrap;\n",
       "}\n",
       "</style>\n",
       "<small>shape: (5, 9)</small><table border=\"1\" class=\"dataframe\"><thead><tr><th>datetime</th><th>station_name</th><th>station_geo</th><th>operative</th><th>capacity</th><th>total_available</th><th>available_mechanical</th><th>available_electrical</th><th>free_terminals</th></tr><tr><td>str</td><td>str</td><td>str</td><td>bool</td><td>i64</td><td>i64</td><td>i64</td><td>i64</td><td>i64</td></tr></thead><tbody><tr><td>&quot;2020-11-26T12:59Z&quot;</td><td>&quot;Benjamin Godard - Victor Hugo&quot;</td><td>&quot;48.86598,2.27572&quot;</td><td>true</td><td>35</td><td>9</td><td>4</td><td>5</td><td>26</td></tr><tr><td>&quot;2020-11-26T12:59Z&quot;</td><td>&quot;André Mazet - Saint-André des …</td><td>&quot;48.85376,2.33910&quot;</td><td>true</td><td>55</td><td>27</td><td>23</td><td>4</td><td>28</td></tr><tr><td>&quot;2020-11-26T12:59Z&quot;</td><td>&quot;Charonne - Robert et Sonia Del…</td><td>&quot;48.85591,2.39257&quot;</td><td>true</td><td>20</td><td>0</td><td>0</td><td>0</td><td>20</td></tr><tr><td>&quot;2020-11-26T12:59Z&quot;</td><td>&quot;Toudouze - Clauzel&quot;</td><td>&quot;48.87930,2.33736&quot;</td><td>true</td><td>21</td><td>1</td><td>0</td><td>1</td><td>20</td></tr><tr><td>&quot;2020-11-26T12:59Z&quot;</td><td>&quot;Mairie du 12ème&quot;</td><td>&quot;48.84086,2.38755&quot;</td><td>true</td><td>30</td><td>4</td><td>3</td><td>1</td><td>26</td></tr></tbody></table></div>"
      ],
      "text/plain": [
       "shape: (5, 9)\n",
       "┌───────────┬───────────┬───────────┬───────────┬───┬───────────┬───────────┬───────────┬──────────┐\n",
       "│ datetime  ┆ station_n ┆ station_g ┆ operative ┆ … ┆ total_ava ┆ available ┆ available ┆ free_ter │\n",
       "│ ---       ┆ ame       ┆ eo        ┆ ---       ┆   ┆ ilable    ┆ _mechanic ┆ _electric ┆ minals   │\n",
       "│ str       ┆ ---       ┆ ---       ┆ bool      ┆   ┆ ---       ┆ al        ┆ al        ┆ ---      │\n",
       "│           ┆ str       ┆ str       ┆           ┆   ┆ i64       ┆ ---       ┆ ---       ┆ i64      │\n",
       "│           ┆           ┆           ┆           ┆   ┆           ┆ i64       ┆ i64       ┆          │\n",
       "╞═══════════╪═══════════╪═══════════╪═══════════╪═══╪═══════════╪═══════════╪═══════════╪══════════╡\n",
       "│ 2020-11-2 ┆ Benjamin  ┆ 48.86598, ┆ true      ┆ … ┆ 9         ┆ 4         ┆ 5         ┆ 26       │\n",
       "│ 6T12:59Z  ┆ Godard -  ┆ 2.27572   ┆           ┆   ┆           ┆           ┆           ┆          │\n",
       "│           ┆ Victor    ┆           ┆           ┆   ┆           ┆           ┆           ┆          │\n",
       "│           ┆ Hugo      ┆           ┆           ┆   ┆           ┆           ┆           ┆          │\n",
       "│ 2020-11-2 ┆ André     ┆ 48.85376, ┆ true      ┆ … ┆ 27        ┆ 23        ┆ 4         ┆ 28       │\n",
       "│ 6T12:59Z  ┆ Mazet -   ┆ 2.33910   ┆           ┆   ┆           ┆           ┆           ┆          │\n",
       "│           ┆ Saint-And ┆           ┆           ┆   ┆           ┆           ┆           ┆          │\n",
       "│           ┆ ré des …  ┆           ┆           ┆   ┆           ┆           ┆           ┆          │\n",
       "│ 2020-11-2 ┆ Charonne  ┆ 48.85591, ┆ true      ┆ … ┆ 0         ┆ 0         ┆ 0         ┆ 20       │\n",
       "│ 6T12:59Z  ┆ - Robert  ┆ 2.39257   ┆           ┆   ┆           ┆           ┆           ┆          │\n",
       "│           ┆ et Sonia  ┆           ┆           ┆   ┆           ┆           ┆           ┆          │\n",
       "│           ┆ Del…      ┆           ┆           ┆   ┆           ┆           ┆           ┆          │\n",
       "│ 2020-11-2 ┆ Toudouze  ┆ 48.87930, ┆ true      ┆ … ┆ 1         ┆ 0         ┆ 1         ┆ 20       │\n",
       "│ 6T12:59Z  ┆ - Clauzel ┆ 2.33736   ┆           ┆   ┆           ┆           ┆           ┆          │\n",
       "│ 2020-11-2 ┆ Mairie du ┆ 48.84086, ┆ true      ┆ … ┆ 4         ┆ 3         ┆ 1         ┆ 26       │\n",
       "│ 6T12:59Z  ┆ 12ème     ┆ 2.38755   ┆           ┆   ┆           ┆           ┆           ┆          │\n",
       "└───────────┴───────────┴───────────┴───────────┴───┴───────────┴───────────┴───────────┴──────────┘"
      ]
     },
     "execution_count": 42,
     "metadata": {},
     "output_type": "execute_result"
    }
   ],
   "source": [
    "total_available = pl.col(\"available_mechanical\") + pl.col(\"available_electrical\")\n",
    "\n",
    "# create total_available and free_terminals columns\n",
    "velib = velib.with_columns(\n",
    "    total_available = total_available,\n",
    "    free_terminals = pl.col(\"capacity\") - total_available\n",
    ")\n",
    "\n",
    "# Reorder columns\n",
    "velib = velib.select([\n",
    "    \"datetime\",\n",
    "    \"station_name\",\n",
    "    \"station_geo\",\n",
    "    \"operative\",\n",
    "    \"capacity\",\n",
    "    \"total_available\",\n",
    "    \"available_mechanical\",\n",
    "    \"available_electrical\",\n",
    "    \"free_terminals\"\n",
    "])\n",
    "\n",
    "velib.head()"
   ]
  },
  {
   "cell_type": "code",
   "execution_count": null,
   "metadata": {},
   "outputs": [],
   "source": []
  }
 ],
 "metadata": {
  "kernelspec": {
   "display_name": "stenv",
   "language": "python",
   "name": "python3"
  },
  "language_info": {
   "codemirror_mode": {
    "name": "ipython",
    "version": 3
   },
   "file_extension": ".py",
   "mimetype": "text/x-python",
   "name": "python",
   "nbconvert_exporter": "python",
   "pygments_lexer": "ipython3",
   "version": "3.12.9"
  }
 },
 "nbformat": 4,
 "nbformat_minor": 2
}
