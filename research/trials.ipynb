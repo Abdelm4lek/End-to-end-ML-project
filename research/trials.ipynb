{
 "cells": [
  {
   "cell_type": "code",
   "execution_count": 13,
   "metadata": {},
   "outputs": [],
   "source": [
    "import polars as pl\n",
    "import numpy as np\n",
    "import matplotlib.pyplot as plt"
   ]
  },
  {
   "cell_type": "code",
   "execution_count": 14,
   "metadata": {},
   "outputs": [
    {
     "data": {
      "text/plain": [
       "' import pandas as pd\\n\\ndf = pd.read_csv(\"C:/Users/pc/Desktop/historique_stations.csv\")\\ndf.head()\\n '"
      ]
     },
     "execution_count": 14,
     "metadata": {},
     "output_type": "execute_result"
    }
   ],
   "source": [
    "\"\"\" import pandas as pd\n",
    "\n",
    "df = pd.read_csv(\"C:/Users/pc/Desktop/historique_stations.csv\")\n",
    "df.head()\n",
    " \"\"\""
   ]
  },
  {
   "cell_type": "code",
   "execution_count": 15,
   "metadata": {},
   "outputs": [
    {
     "data": {
      "text/html": [
       "<div><style>\n",
       ".dataframe > thead > tr,\n",
       ".dataframe > tbody > tr {\n",
       "  text-align: right;\n",
       "  white-space: pre-wrap;\n",
       "}\n",
       "</style>\n",
       "<small>shape: (5, 7)</small><table border=\"1\" class=\"dataframe\"><thead><tr><th>datetime</th><th>capacity</th><th>available_mechanical</th><th>available_electrical</th><th>station_name</th><th>station_geo</th><th>operative</th></tr><tr><td>str</td><td>i64</td><td>i64</td><td>i64</td><td>str</td><td>str</td><td>bool</td></tr></thead><tbody><tr><td>&quot;2020-11-26T12:59Z&quot;</td><td>35</td><td>4</td><td>5</td><td>&quot;Benjamin Godard - Victor Hugo&quot;</td><td>&quot;48.86598,2.27572&quot;</td><td>true</td></tr><tr><td>&quot;2020-11-26T12:59Z&quot;</td><td>55</td><td>23</td><td>4</td><td>&quot;André Mazet - Saint-André des …</td><td>&quot;48.85376,2.33910&quot;</td><td>true</td></tr><tr><td>&quot;2020-11-26T12:59Z&quot;</td><td>20</td><td>0</td><td>0</td><td>&quot;Charonne - Robert et Sonia Del…</td><td>&quot;48.85591,2.39257&quot;</td><td>true</td></tr><tr><td>&quot;2020-11-26T12:59Z&quot;</td><td>21</td><td>0</td><td>1</td><td>&quot;Toudouze - Clauzel&quot;</td><td>&quot;48.87930,2.33736&quot;</td><td>true</td></tr><tr><td>&quot;2020-11-26T12:59Z&quot;</td><td>30</td><td>3</td><td>1</td><td>&quot;Mairie du 12ème&quot;</td><td>&quot;48.84086,2.38755&quot;</td><td>true</td></tr></tbody></table></div>"
      ],
      "text/plain": [
       "shape: (5, 7)\n",
       "┌───────────────┬──────────┬──────────────┬──────────────┬──────────────┬──────────────┬───────────┐\n",
       "│ datetime      ┆ capacity ┆ available_me ┆ available_el ┆ station_name ┆ station_geo  ┆ operative │\n",
       "│ ---           ┆ ---      ┆ chanical     ┆ ectrical     ┆ ---          ┆ ---          ┆ ---       │\n",
       "│ str           ┆ i64      ┆ ---          ┆ ---          ┆ str          ┆ str          ┆ bool      │\n",
       "│               ┆          ┆ i64          ┆ i64          ┆              ┆              ┆           │\n",
       "╞═══════════════╪══════════╪══════════════╪══════════════╪══════════════╪══════════════╪═══════════╡\n",
       "│ 2020-11-26T12 ┆ 35       ┆ 4            ┆ 5            ┆ Benjamin     ┆ 48.86598,2.2 ┆ true      │\n",
       "│ :59Z          ┆          ┆              ┆              ┆ Godard -     ┆ 7572         ┆           │\n",
       "│               ┆          ┆              ┆              ┆ Victor Hugo  ┆              ┆           │\n",
       "│ 2020-11-26T12 ┆ 55       ┆ 23           ┆ 4            ┆ André Mazet  ┆ 48.85376,2.3 ┆ true      │\n",
       "│ :59Z          ┆          ┆              ┆              ┆ -            ┆ 3910         ┆           │\n",
       "│               ┆          ┆              ┆              ┆ Saint-André  ┆              ┆           │\n",
       "│               ┆          ┆              ┆              ┆ des …        ┆              ┆           │\n",
       "│ 2020-11-26T12 ┆ 20       ┆ 0            ┆ 0            ┆ Charonne -   ┆ 48.85591,2.3 ┆ true      │\n",
       "│ :59Z          ┆          ┆              ┆              ┆ Robert et    ┆ 9257         ┆           │\n",
       "│               ┆          ┆              ┆              ┆ Sonia Del…   ┆              ┆           │\n",
       "│ 2020-11-26T12 ┆ 21       ┆ 0            ┆ 1            ┆ Toudouze -   ┆ 48.87930,2.3 ┆ true      │\n",
       "│ :59Z          ┆          ┆              ┆              ┆ Clauzel      ┆ 3736         ┆           │\n",
       "│ 2020-11-26T12 ┆ 30       ┆ 3            ┆ 1            ┆ Mairie du    ┆ 48.84086,2.3 ┆ true      │\n",
       "│ :59Z          ┆          ┆              ┆              ┆ 12ème        ┆ 8755         ┆           │\n",
       "└───────────────┴──────────┴──────────────┴──────────────┴──────────────┴──────────────┴───────────┘"
      ]
     },
     "execution_count": 15,
     "metadata": {},
     "output_type": "execute_result"
    }
   ],
   "source": [
    "velib = pl.read_csv(\"C:/Users/pc/Desktop/historique_stations.csv\")\n",
    "velib.head()"
   ]
  },
  {
   "cell_type": "code",
   "execution_count": 16,
   "metadata": {},
   "outputs": [
    {
     "data": {
      "text/html": [
       "<div><style>\n",
       ".dataframe > thead > tr,\n",
       ".dataframe > tbody > tr {\n",
       "  text-align: right;\n",
       "  white-space: pre-wrap;\n",
       "}\n",
       "</style>\n",
       "<small>shape: (5, 7)</small><table border=\"1\" class=\"dataframe\"><thead><tr><th>datetime</th><th>capacity</th><th>available_mechanical</th><th>available_electrical</th><th>station_name</th><th>station_geo</th><th>operative</th></tr><tr><td>str</td><td>i64</td><td>i64</td><td>i64</td><td>str</td><td>str</td><td>bool</td></tr></thead><tbody><tr><td>&quot;2021-04-09T14:37Z&quot;</td><td>38</td><td>4</td><td>2</td><td>&quot;Général Michel Bizot - Claude …</td><td>&quot;48.83481,2.40093&quot;</td><td>true</td></tr><tr><td>&quot;2021-04-09T14:37Z&quot;</td><td>20</td><td>2</td><td>1</td><td>&quot;Ivry - Baudricourt&quot;</td><td>&quot;48.82470,2.36311&quot;</td><td>true</td></tr><tr><td>&quot;2021-04-09T14:37Z&quot;</td><td>39</td><td>17</td><td>0</td><td>&quot;Saint-Mandé - Docteur Arnold N…</td><td>&quot;48.84463,2.40495&quot;</td><td>true</td></tr><tr><td>&quot;2021-04-09T14:37Z&quot;</td><td>21</td><td>12</td><td>4</td><td>&quot;Saint-Marcel - Hôpital&quot;</td><td>&quot;48.83950,2.36099&quot;</td><td>true</td></tr><tr><td>&quot;2021-04-09T14:37Z&quot;</td><td>36</td><td>12</td><td>5</td><td>&quot;Guynemer - Jardin du Luxembour…</td><td>&quot;48.84661,2.33255&quot;</td><td>true</td></tr></tbody></table></div>"
      ],
      "text/plain": [
       "shape: (5, 7)\n",
       "┌───────────────┬──────────┬──────────────┬──────────────┬──────────────┬──────────────┬───────────┐\n",
       "│ datetime      ┆ capacity ┆ available_me ┆ available_el ┆ station_name ┆ station_geo  ┆ operative │\n",
       "│ ---           ┆ ---      ┆ chanical     ┆ ectrical     ┆ ---          ┆ ---          ┆ ---       │\n",
       "│ str           ┆ i64      ┆ ---          ┆ ---          ┆ str          ┆ str          ┆ bool      │\n",
       "│               ┆          ┆ i64          ┆ i64          ┆              ┆              ┆           │\n",
       "╞═══════════════╪══════════╪══════════════╪══════════════╪══════════════╪══════════════╪═══════════╡\n",
       "│ 2021-04-09T14 ┆ 38       ┆ 4            ┆ 2            ┆ Général      ┆ 48.83481,2.4 ┆ true      │\n",
       "│ :37Z          ┆          ┆              ┆              ┆ Michel Bizot ┆ 0093         ┆           │\n",
       "│               ┆          ┆              ┆              ┆ - Claude …   ┆              ┆           │\n",
       "│ 2021-04-09T14 ┆ 20       ┆ 2            ┆ 1            ┆ Ivry -       ┆ 48.82470,2.3 ┆ true      │\n",
       "│ :37Z          ┆          ┆              ┆              ┆ Baudricourt  ┆ 6311         ┆           │\n",
       "│ 2021-04-09T14 ┆ 39       ┆ 17           ┆ 0            ┆ Saint-Mandé  ┆ 48.84463,2.4 ┆ true      │\n",
       "│ :37Z          ┆          ┆              ┆              ┆ - Docteur    ┆ 0495         ┆           │\n",
       "│               ┆          ┆              ┆              ┆ Arnold N…    ┆              ┆           │\n",
       "│ 2021-04-09T14 ┆ 21       ┆ 12           ┆ 4            ┆ Saint-Marcel ┆ 48.83950,2.3 ┆ true      │\n",
       "│ :37Z          ┆          ┆              ┆              ┆ - Hôpital    ┆ 6099         ┆           │\n",
       "│ 2021-04-09T14 ┆ 36       ┆ 12           ┆ 5            ┆ Guynemer -   ┆ 48.84661,2.3 ┆ true      │\n",
       "│ :37Z          ┆          ┆              ┆              ┆ Jardin du    ┆ 3255         ┆           │\n",
       "│               ┆          ┆              ┆              ┆ Luxembour…   ┆              ┆           │\n",
       "└───────────────┴──────────┴──────────────┴──────────────┴──────────────┴──────────────┴───────────┘"
      ]
     },
     "execution_count": 16,
     "metadata": {},
     "output_type": "execute_result"
    }
   ],
   "source": [
    "velib.tail()"
   ]
  },
  {
   "cell_type": "code",
   "execution_count": 17,
   "metadata": {},
   "outputs": [
    {
     "data": {
      "text/html": [
       "<div><style>\n",
       ".dataframe > thead > tr,\n",
       ".dataframe > tbody > tr {\n",
       "  text-align: right;\n",
       "  white-space: pre-wrap;\n",
       "}\n",
       "</style>\n",
       "<small>shape: (9, 8)</small><table border=\"1\" class=\"dataframe\"><thead><tr><th>statistic</th><th>datetime</th><th>capacity</th><th>available_mechanical</th><th>available_electrical</th><th>station_name</th><th>station_geo</th><th>operative</th></tr><tr><td>str</td><td>str</td><td>f64</td><td>f64</td><td>f64</td><td>str</td><td>str</td><td>f64</td></tr></thead><tbody><tr><td>&quot;count&quot;</td><td>&quot;10986730&quot;</td><td>1.098673e7</td><td>1.098673e7</td><td>1.098673e7</td><td>&quot;10986730&quot;</td><td>&quot;10986730&quot;</td><td>1.098673e7</td></tr><tr><td>&quot;null_count&quot;</td><td>&quot;0&quot;</td><td>0.0</td><td>0.0</td><td>0.0</td><td>&quot;0&quot;</td><td>&quot;0&quot;</td><td>0.0</td></tr><tr><td>&quot;mean&quot;</td><td>null</td><td>31.465766</td><td>7.845411</td><td>3.502016</td><td>null</td><td>null</td><td>0.980206</td></tr><tr><td>&quot;std&quot;</td><td>null</td><td>12.018012</td><td>9.007581</td><td>3.144555</td><td>null</td><td>null</td><td>null</td></tr><tr><td>&quot;min&quot;</td><td>&quot;2020-11-26T12:59Z&quot;</td><td>0.0</td><td>0.0</td><td>0.0</td><td>&quot; Jean Bleuzen - Square du 11 N…</td><td>&quot;48.76462,2.40712&quot;</td><td>0.0</td></tr><tr><td>&quot;25%&quot;</td><td>null</td><td>23.0</td><td>1.0</td><td>1.0</td><td>null</td><td>null</td><td>null</td></tr><tr><td>&quot;50%&quot;</td><td>null</td><td>30.0</td><td>5.0</td><td>3.0</td><td>null</td><td>null</td><td>null</td></tr><tr><td>&quot;75%&quot;</td><td>null</td><td>37.0</td><td>11.0</td><td>5.0</td><td>null</td><td>null</td><td>null</td></tr><tr><td>&quot;max&quot;</td><td>&quot;2021-04-09T14:37Z&quot;</td><td>74.0</td><td>73.0</td><td>41.0</td><td>&quot;Île de la Jatte&quot;</td><td>&quot;48.94702,2.25690&quot;</td><td>1.0</td></tr></tbody></table></div>"
      ],
      "text/plain": [
       "shape: (9, 8)\n",
       "┌────────────┬────────────┬────────────┬───────────┬───────────┬───────────┬───────────┬───────────┐\n",
       "│ statistic  ┆ datetime   ┆ capacity   ┆ available ┆ available ┆ station_n ┆ station_g ┆ operative │\n",
       "│ ---        ┆ ---        ┆ ---        ┆ _mechanic ┆ _electric ┆ ame       ┆ eo        ┆ ---       │\n",
       "│ str        ┆ str        ┆ f64        ┆ al        ┆ al        ┆ ---       ┆ ---       ┆ f64       │\n",
       "│            ┆            ┆            ┆ ---       ┆ ---       ┆ str       ┆ str       ┆           │\n",
       "│            ┆            ┆            ┆ f64       ┆ f64       ┆           ┆           ┆           │\n",
       "╞════════════╪════════════╪════════════╪═══════════╪═══════════╪═══════════╪═══════════╪═══════════╡\n",
       "│ count      ┆ 10986730   ┆ 1.098673e7 ┆ 1.098673e ┆ 1.098673e ┆ 10986730  ┆ 10986730  ┆ 1.098673e │\n",
       "│            ┆            ┆            ┆ 7         ┆ 7         ┆           ┆           ┆ 7         │\n",
       "│ null_count ┆ 0          ┆ 0.0        ┆ 0.0       ┆ 0.0       ┆ 0         ┆ 0         ┆ 0.0       │\n",
       "│ mean       ┆ null       ┆ 31.465766  ┆ 7.845411  ┆ 3.502016  ┆ null      ┆ null      ┆ 0.980206  │\n",
       "│ std        ┆ null       ┆ 12.018012  ┆ 9.007581  ┆ 3.144555  ┆ null      ┆ null      ┆ null      │\n",
       "│ min        ┆ 2020-11-26 ┆ 0.0        ┆ 0.0       ┆ 0.0       ┆ Jean      ┆ 48.76462, ┆ 0.0       │\n",
       "│            ┆ T12:59Z    ┆            ┆           ┆           ┆ Bleuzen - ┆ 2.40712   ┆           │\n",
       "│            ┆            ┆            ┆           ┆           ┆ Square du ┆           ┆           │\n",
       "│            ┆            ┆            ┆           ┆           ┆ 11 N…     ┆           ┆           │\n",
       "│ 25%        ┆ null       ┆ 23.0       ┆ 1.0       ┆ 1.0       ┆ null      ┆ null      ┆ null      │\n",
       "│ 50%        ┆ null       ┆ 30.0       ┆ 5.0       ┆ 3.0       ┆ null      ┆ null      ┆ null      │\n",
       "│ 75%        ┆ null       ┆ 37.0       ┆ 11.0      ┆ 5.0       ┆ null      ┆ null      ┆ null      │\n",
       "│ max        ┆ 2021-04-09 ┆ 74.0       ┆ 73.0      ┆ 41.0      ┆ Île de la ┆ 48.94702, ┆ 1.0       │\n",
       "│            ┆ T14:37Z    ┆            ┆           ┆           ┆ Jatte     ┆ 2.25690   ┆           │\n",
       "└────────────┴────────────┴────────────┴───────────┴───────────┴───────────┴───────────┴───────────┘"
      ]
     },
     "execution_count": 17,
     "metadata": {},
     "output_type": "execute_result"
    }
   ],
   "source": [
    "# statistical summary\n",
    "velib.describe()"
   ]
  },
  {
   "cell_type": "code",
   "execution_count": 18,
   "metadata": {},
   "outputs": [
    {
     "data": {
      "text/html": [
       "<div><style>\n",
       ".dataframe > thead > tr,\n",
       ".dataframe > tbody > tr {\n",
       "  text-align: right;\n",
       "  white-space: pre-wrap;\n",
       "}\n",
       "</style>\n",
       "<small>shape: (5, 14)</small><table border=\"1\" class=\"dataframe\"><thead><tr><th>datetime</th><th>capacity</th><th>available_mechanical</th><th>available_electrical</th><th>station_name</th><th>station_geo</th><th>operative</th><th>date</th><th>time</th><th>weekday</th><th>total_available</th><th>free_terminals</th><th>lat</th><th>lon</th></tr><tr><td>datetime[μs, UTC]</td><td>i64</td><td>i64</td><td>i64</td><td>str</td><td>str</td><td>bool</td><td>date</td><td>time</td><td>i8</td><td>i64</td><td>i64</td><td>f64</td><td>f64</td></tr></thead><tbody><tr><td>2020-11-26 12:59:00 UTC</td><td>35</td><td>4</td><td>5</td><td>&quot;Benjamin Godard - Victor Hugo&quot;</td><td>&quot;48.86598,2.27572&quot;</td><td>true</td><td>2020-11-26</td><td>12:59:00</td><td>4</td><td>9</td><td>26</td><td>48.86598</td><td>2.27572</td></tr><tr><td>2020-11-26 12:59:00 UTC</td><td>55</td><td>23</td><td>4</td><td>&quot;André Mazet - Saint-André des …</td><td>&quot;48.85376,2.33910&quot;</td><td>true</td><td>2020-11-26</td><td>12:59:00</td><td>4</td><td>27</td><td>28</td><td>48.85376</td><td>2.3391</td></tr><tr><td>2020-11-26 12:59:00 UTC</td><td>20</td><td>0</td><td>0</td><td>&quot;Charonne - Robert et Sonia Del…</td><td>&quot;48.85591,2.39257&quot;</td><td>true</td><td>2020-11-26</td><td>12:59:00</td><td>4</td><td>0</td><td>20</td><td>48.85591</td><td>2.39257</td></tr><tr><td>2020-11-26 12:59:00 UTC</td><td>21</td><td>0</td><td>1</td><td>&quot;Toudouze - Clauzel&quot;</td><td>&quot;48.87930,2.33736&quot;</td><td>true</td><td>2020-11-26</td><td>12:59:00</td><td>4</td><td>1</td><td>20</td><td>48.8793</td><td>2.33736</td></tr><tr><td>2020-11-26 12:59:00 UTC</td><td>30</td><td>3</td><td>1</td><td>&quot;Mairie du 12ème&quot;</td><td>&quot;48.84086,2.38755&quot;</td><td>true</td><td>2020-11-26</td><td>12:59:00</td><td>4</td><td>4</td><td>26</td><td>48.84086</td><td>2.38755</td></tr></tbody></table></div>"
      ],
      "text/plain": [
       "shape: (5, 14)\n",
       "┌────────────┬──────────┬────────────┬────────────┬───┬───────────┬───────────┬──────────┬─────────┐\n",
       "│ datetime   ┆ capacity ┆ available_ ┆ available_ ┆ … ┆ total_ava ┆ free_term ┆ lat      ┆ lon     │\n",
       "│ ---        ┆ ---      ┆ mechanical ┆ electrical ┆   ┆ ilable    ┆ inals     ┆ ---      ┆ ---     │\n",
       "│ datetime[μ ┆ i64      ┆ ---        ┆ ---        ┆   ┆ ---       ┆ ---       ┆ f64      ┆ f64     │\n",
       "│ s, UTC]    ┆          ┆ i64        ┆ i64        ┆   ┆ i64       ┆ i64       ┆          ┆         │\n",
       "╞════════════╪══════════╪════════════╪════════════╪═══╪═══════════╪═══════════╪══════════╪═════════╡\n",
       "│ 2020-11-26 ┆ 35       ┆ 4          ┆ 5          ┆ … ┆ 9         ┆ 26        ┆ 48.86598 ┆ 2.27572 │\n",
       "│ 12:59:00   ┆          ┆            ┆            ┆   ┆           ┆           ┆          ┆         │\n",
       "│ UTC        ┆          ┆            ┆            ┆   ┆           ┆           ┆          ┆         │\n",
       "│ 2020-11-26 ┆ 55       ┆ 23         ┆ 4          ┆ … ┆ 27        ┆ 28        ┆ 48.85376 ┆ 2.3391  │\n",
       "│ 12:59:00   ┆          ┆            ┆            ┆   ┆           ┆           ┆          ┆         │\n",
       "│ UTC        ┆          ┆            ┆            ┆   ┆           ┆           ┆          ┆         │\n",
       "│ 2020-11-26 ┆ 20       ┆ 0          ┆ 0          ┆ … ┆ 0         ┆ 20        ┆ 48.85591 ┆ 2.39257 │\n",
       "│ 12:59:00   ┆          ┆            ┆            ┆   ┆           ┆           ┆          ┆         │\n",
       "│ UTC        ┆          ┆            ┆            ┆   ┆           ┆           ┆          ┆         │\n",
       "│ 2020-11-26 ┆ 21       ┆ 0          ┆ 1          ┆ … ┆ 1         ┆ 20        ┆ 48.8793  ┆ 2.33736 │\n",
       "│ 12:59:00   ┆          ┆            ┆            ┆   ┆           ┆           ┆          ┆         │\n",
       "│ UTC        ┆          ┆            ┆            ┆   ┆           ┆           ┆          ┆         │\n",
       "│ 2020-11-26 ┆ 30       ┆ 3          ┆ 1          ┆ … ┆ 4         ┆ 26        ┆ 48.84086 ┆ 2.38755 │\n",
       "│ 12:59:00   ┆          ┆            ┆            ┆   ┆           ┆           ┆          ┆         │\n",
       "│ UTC        ┆          ┆            ┆            ┆   ┆           ┆           ┆          ┆         │\n",
       "└────────────┴──────────┴────────────┴────────────┴───┴───────────┴───────────┴──────────┴─────────┘"
      ]
     },
     "execution_count": 18,
     "metadata": {},
     "output_type": "execute_result"
    }
   ],
   "source": [
    "# parse datetime column and extract date and time\n",
    "velib = velib.with_columns(\n",
    "    # Step 1: Parse the string into a Datetime object\n",
    "    # Polars' default parser usually handles ISO 8601 format (T separator, Z for UTC)\n",
    "    datetime = pl.col(\"datetime\").str.to_datetime()\n",
    ").with_columns(\n",
    "    # Step 2: Extract Date, Time and Weekday from the new Datetime object\n",
    "    date = pl.col(\"datetime\").dt.date(),\n",
    "    time = pl.col(\"datetime\").dt.time(),\n",
    "    weekday = pl.col(\"datetime\").dt.weekday()\n",
    ")\n",
    "\n",
    "\n",
    "# create new columns\n",
    "total_available = pl.col(\"available_mechanical\") + pl.col(\"available_electrical\")\n",
    "\n",
    "velib = velib.with_columns(\n",
    "    total_available = total_available,\n",
    "    free_terminals = pl.col(\"capacity\") - total_available,\n",
    "    lat = pl.col(\"station_geo\").str.split(\",\").list.first().cast(float),\n",
    "    lon = pl.col(\"station_geo\").str.split(\",\").list.last().cast(float)\n",
    ")\n",
    "\n",
    "velib.head()"
   ]
  },
  {
   "cell_type": "code",
   "execution_count": 19,
   "metadata": {},
   "outputs": [],
   "source": [
    "# Extract hour from time column\n",
    "velib = velib.with_columns(\n",
    "    hour = pl.col(\"time\").cast(str).str.slice(0, 2).cast(pl.Int32)\n",
    ")\n",
    "\n",
    "# Group by date, hour, and station, taking last value in each hour\n",
    "velib = velib.group_by([\"date\", \"hour\", \"station_name\"]).agg([\n",
    "    pl.col(\"weekday\").last(),\n",
    "    pl.col(\"lat\").last(),\n",
    "    pl.col(\"lon\").last(),\n",
    "    pl.col(\"total_available\").last(),\n",
    "    pl.col(\"available_mechanical\").last(), \n",
    "    pl.col(\"available_electrical\").last(),\n",
    "    pl.col(\"free_terminals\").last()\n",
    "])"
   ]
  },
  {
   "cell_type": "code",
   "execution_count": 21,
   "metadata": {},
   "outputs": [
    {
     "data": {
      "text/html": [
       "<div><style>\n",
       ".dataframe > thead > tr,\n",
       ".dataframe > tbody > tr {\n",
       "  text-align: right;\n",
       "  white-space: pre-wrap;\n",
       "}\n",
       "</style>\n",
       "<small>shape: (10, 8)</small><table border=\"1\" class=\"dataframe\"><thead><tr><th>date</th><th>weekday</th><th>hour</th><th>station_name</th><th>total_available</th><th>available_mechanical</th><th>available_electrical</th><th>free_terminals</th></tr><tr><td>date</td><td>i8</td><td>i32</td><td>str</td><td>i64</td><td>i64</td><td>i64</td><td>i64</td></tr></thead><tbody><tr><td>2021-03-29</td><td>1</td><td>7</td><td>&quot;Adolphe Lalyre - Armand Silves…</td><td>8</td><td>7</td><td>1</td><td>32</td></tr><tr><td>2021-01-17</td><td>7</td><td>23</td><td>&quot;Sèvres-Gallieni&quot;</td><td>9</td><td>2</td><td>7</td><td>18</td></tr><tr><td>2021-03-11</td><td>4</td><td>4</td><td>&quot;Guillaume Tell - Parc Henri Ba…</td><td>11</td><td>1</td><td>10</td><td>9</td></tr><tr><td>2021-04-02</td><td>5</td><td>20</td><td>&quot;Square René Viviani - Montebel…</td><td>8</td><td>5</td><td>3</td><td>26</td></tr><tr><td>2021-03-26</td><td>5</td><td>14</td><td>&quot;Daumesnil - Hébrard&quot;</td><td>38</td><td>29</td><td>9</td><td>2</td></tr><tr><td>2020-12-25</td><td>5</td><td>14</td><td>&quot;Etienne Jodelle - Saint Ouen&quot;</td><td>1</td><td>0</td><td>1</td><td>32</td></tr><tr><td>2021-04-07</td><td>3</td><td>14</td><td>&quot;Gare de Robinson&quot;</td><td>19</td><td>14</td><td>5</td><td>11</td></tr><tr><td>2020-11-28</td><td>6</td><td>4</td><td>&quot;Porte de la Villette&quot;</td><td>5</td><td>3</td><td>2</td><td>22</td></tr><tr><td>2020-12-18</td><td>5</td><td>15</td><td>&quot;Faubourg Poissonniere - Delta&quot;</td><td>1</td><td>0</td><td>1</td><td>35</td></tr><tr><td>2021-04-04</td><td>7</td><td>18</td><td>&quot;Marc Sangnier - Division Lecle…</td><td>14</td><td>9</td><td>5</td><td>10</td></tr></tbody></table></div>"
      ],
      "text/plain": [
       "shape: (10, 8)\n",
       "┌────────────┬─────────┬──────┬─────────────┬─────────────┬─────────────┬─────────────┬────────────┐\n",
       "│ date       ┆ weekday ┆ hour ┆ station_nam ┆ total_avail ┆ available_m ┆ available_e ┆ free_termi │\n",
       "│ ---        ┆ ---     ┆ ---  ┆ e           ┆ able        ┆ echanical   ┆ lectrical   ┆ nals       │\n",
       "│ date       ┆ i8      ┆ i32  ┆ ---         ┆ ---         ┆ ---         ┆ ---         ┆ ---        │\n",
       "│            ┆         ┆      ┆ str         ┆ i64         ┆ i64         ┆ i64         ┆ i64        │\n",
       "╞════════════╪═════════╪══════╪═════════════╪═════════════╪═════════════╪═════════════╪════════════╡\n",
       "│ 2021-03-29 ┆ 1       ┆ 7    ┆ Adolphe     ┆ 8           ┆ 7           ┆ 1           ┆ 32         │\n",
       "│            ┆         ┆      ┆ Lalyre -    ┆             ┆             ┆             ┆            │\n",
       "│            ┆         ┆      ┆ Armand      ┆             ┆             ┆             ┆            │\n",
       "│            ┆         ┆      ┆ Silves…     ┆             ┆             ┆             ┆            │\n",
       "│ 2021-01-17 ┆ 7       ┆ 23   ┆ Sèvres-Gall ┆ 9           ┆ 2           ┆ 7           ┆ 18         │\n",
       "│            ┆         ┆      ┆ ieni        ┆             ┆             ┆             ┆            │\n",
       "│ 2021-03-11 ┆ 4       ┆ 4    ┆ Guillaume   ┆ 11          ┆ 1           ┆ 10          ┆ 9          │\n",
       "│            ┆         ┆      ┆ Tell - Parc ┆             ┆             ┆             ┆            │\n",
       "│            ┆         ┆      ┆ Henri Ba…   ┆             ┆             ┆             ┆            │\n",
       "│ 2021-04-02 ┆ 5       ┆ 20   ┆ Square René ┆ 8           ┆ 5           ┆ 3           ┆ 26         │\n",
       "│            ┆         ┆      ┆ Viviani -   ┆             ┆             ┆             ┆            │\n",
       "│            ┆         ┆      ┆ Montebel…   ┆             ┆             ┆             ┆            │\n",
       "│ 2021-03-26 ┆ 5       ┆ 14   ┆ Daumesnil - ┆ 38          ┆ 29          ┆ 9           ┆ 2          │\n",
       "│            ┆         ┆      ┆ Hébrard     ┆             ┆             ┆             ┆            │\n",
       "│ 2020-12-25 ┆ 5       ┆ 14   ┆ Etienne     ┆ 1           ┆ 0           ┆ 1           ┆ 32         │\n",
       "│            ┆         ┆      ┆ Jodelle -   ┆             ┆             ┆             ┆            │\n",
       "│            ┆         ┆      ┆ Saint Ouen  ┆             ┆             ┆             ┆            │\n",
       "│ 2021-04-07 ┆ 3       ┆ 14   ┆ Gare de     ┆ 19          ┆ 14          ┆ 5           ┆ 11         │\n",
       "│            ┆         ┆      ┆ Robinson    ┆             ┆             ┆             ┆            │\n",
       "│ 2020-11-28 ┆ 6       ┆ 4    ┆ Porte de la ┆ 5           ┆ 3           ┆ 2           ┆ 22         │\n",
       "│            ┆         ┆      ┆ Villette    ┆             ┆             ┆             ┆            │\n",
       "│ 2020-12-18 ┆ 5       ┆ 15   ┆ Faubourg    ┆ 1           ┆ 0           ┆ 1           ┆ 35         │\n",
       "│            ┆         ┆      ┆ Poissonnier ┆             ┆             ┆             ┆            │\n",
       "│            ┆         ┆      ┆ e - Delta   ┆             ┆             ┆             ┆            │\n",
       "│ 2021-04-04 ┆ 7       ┆ 18   ┆ Marc        ┆ 14          ┆ 9           ┆ 5           ┆ 10         │\n",
       "│            ┆         ┆      ┆ Sangnier -  ┆             ┆             ┆             ┆            │\n",
       "│            ┆         ┆      ┆ Division    ┆             ┆             ┆             ┆            │\n",
       "│            ┆         ┆      ┆ Lecle…      ┆             ┆             ┆             ┆            │\n",
       "└────────────┴─────────┴──────┴─────────────┴─────────────┴─────────────┴─────────────┴────────────┘"
      ]
     },
     "execution_count": 21,
     "metadata": {},
     "output_type": "execute_result"
    }
   ],
   "source": [
    "# drop datetime column and reorder columns\n",
    "new_velib = velib.select([\n",
    "    \"date\",\n",
    "    \"weekday\",\n",
    "    \"hour\",\n",
    "    \"station_name\",\n",
    "    \"total_available\",\n",
    "    \"available_mechanical\",\n",
    "    \"available_electrical\",\n",
    "    \"free_terminals\"\n",
    "]).sort([\"date\", \"hour\", \"station_name\"])\n",
    "\n",
    "new_velib.sample(10)"
   ]
  },
  {
   "cell_type": "code",
   "execution_count": 22,
   "metadata": {},
   "outputs": [
    {
     "data": {
      "text/plain": [
       "<matplotlib.legend.Legend at 0x2a0c91e2060>"
      ]
     },
     "execution_count": 22,
     "metadata": {},
     "output_type": "execute_result"
    },
    {
     "data": {
      "image/png": "[encoded data removed]",
      "text/plain": [
       "<Figure size 640x480 with 1 Axes>"
      ]
     },
     "metadata": {},
     "output_type": "display_data"
    }
   ],
   "source": [
    "# Group by date and calculate mean total_available across all stations\n",
    "daily_avg = velib.group_by(\"date\").agg(avg_available=pl.col(\"total_available\").mean()).sort(\"date\")\n",
    "\n",
    "plt.plot(daily_avg[\"date\"], daily_avg[\"avg_available\"], label='Average Available Bikes')\n",
    "plt.xlabel('Date')\n",
    "plt.ylabel('Number of Available Bikes')\n",
    "plt.title('Average Available Bikes Over Time')\n",
    "plt.xticks(rotation=45)\n",
    "plt.legend()"
   ]
  },
  {
   "cell_type": "code",
   "execution_count": 24,
   "metadata": {},
   "outputs": [],
   "source": [
    "# Create a mapping of unique station names to IDs\n",
    "station_mapping = (\n",
    "    velib.sort(\"station_name\")\n",
    "    .select(\"station_name\")\n",
    "    .unique()\n",
    "    .with_row_index(\"station_id\")\n",
    ")\n",
    "\n",
    "# Add station IDs to original dataframe by joining on station_name\n",
    "new_df = velib.join(\n",
    "    station_mapping,\n",
    "    on=\"station_name\",\n",
    "    how=\"left\"\n",
    ")\n"
   ]
  },
  {
   "cell_type": "code",
   "execution_count": 25,
   "metadata": {},
   "outputs": [
    {
     "name": "stdout",
     "output_type": "stream",
     "text": [
      "Station ID Mapping:\n",
      "shape: (5, 2)\n",
      "┌────────────┬─────────────────────────────────┐\n",
      "│ station_id ┆ station_name                    │\n",
      "│ ---        ┆ ---                             │\n",
      "│ u32        ┆ str                             │\n",
      "╞════════════╪═════════════════════════════════╡\n",
      "│ 0          ┆  Jean Bleuzen - Square du 11 N… │\n",
      "│ 1          ┆  Place Léon Gambetta            │\n",
      "│ 2          ┆ 11 Novembre 1918 - 8 Mai 1945   │\n",
      "│ 3          ┆ 18 juin 1940 - Buzenval         │\n",
      "│ 4          ┆ 8 Mai 1945 - 10 Juillet 1940    │\n",
      "└────────────┴─────────────────────────────────┘\n",
      "\n",
      "Updated Velib Data:\n"
     ]
    },
    {
     "data": {
      "text/html": [
       "<div><style>\n",
       ".dataframe > thead > tr,\n",
       ".dataframe > tbody > tr {\n",
       "  text-align: right;\n",
       "  white-space: pre-wrap;\n",
       "}\n",
       "</style>\n",
       "<small>shape: (5, 7)</small><table border=\"1\" class=\"dataframe\"><thead><tr><th>date</th><th>hour</th><th>station_id</th><th>total_available</th><th>available_mechanical</th><th>available_electrical</th><th>free_terminals</th></tr><tr><td>date</td><td>i32</td><td>cat</td><td>i64</td><td>i64</td><td>i64</td><td>i64</td></tr></thead><tbody><tr><td>2020-12-05</td><td>3</td><td>&quot;660&quot;</td><td>22</td><td>20</td><td>2</td><td>21</td></tr><tr><td>2020-12-09</td><td>10</td><td>&quot;594&quot;</td><td>1</td><td>1</td><td>0</td><td>19</td></tr><tr><td>2021-02-23</td><td>16</td><td>&quot;197&quot;</td><td>0</td><td>0</td><td>0</td><td>0</td></tr><tr><td>2021-02-26</td><td>9</td><td>&quot;1148&quot;</td><td>6</td><td>5</td><td>1</td><td>31</td></tr><tr><td>2021-01-27</td><td>1</td><td>&quot;815&quot;</td><td>14</td><td>12</td><td>2</td><td>2</td></tr></tbody></table></div>"
      ],
      "text/plain": [
       "shape: (5, 7)\n",
       "┌────────────┬──────┬────────────┬────────────────┬────────────────┬───────────────┬───────────────┐\n",
       "│ date       ┆ hour ┆ station_id ┆ total_availabl ┆ available_mech ┆ available_ele ┆ free_terminal │\n",
       "│ ---        ┆ ---  ┆ ---        ┆ e              ┆ anical         ┆ ctrical       ┆ s             │\n",
       "│ date       ┆ i32  ┆ cat        ┆ ---            ┆ ---            ┆ ---           ┆ ---           │\n",
       "│            ┆      ┆            ┆ i64            ┆ i64            ┆ i64           ┆ i64           │\n",
       "╞════════════╪══════╪════════════╪════════════════╪════════════════╪═══════════════╪═══════════════╡\n",
       "│ 2020-12-05 ┆ 3    ┆ 660        ┆ 22             ┆ 20             ┆ 2             ┆ 21            │\n",
       "│ 2020-12-09 ┆ 10   ┆ 594        ┆ 1              ┆ 1              ┆ 0             ┆ 19            │\n",
       "│ 2021-02-23 ┆ 16   ┆ 197        ┆ 0              ┆ 0              ┆ 0             ┆ 0             │\n",
       "│ 2021-02-26 ┆ 9    ┆ 1148       ┆ 6              ┆ 5              ┆ 1             ┆ 31            │\n",
       "│ 2021-01-27 ┆ 1    ┆ 815        ┆ 14             ┆ 12             ┆ 2             ┆ 2             │\n",
       "└────────────┴──────┴────────────┴────────────────┴────────────────┴───────────────┴───────────────┘"
      ]
     },
     "execution_count": 25,
     "metadata": {},
     "output_type": "execute_result"
    }
   ],
   "source": [
    "# Create a mapping of unique station names to IDs\n",
    "station_mapping = (\n",
    "    velib.sort(\"station_name\")\n",
    "    .select(\"station_name\")\n",
    "    .unique()\n",
    "    .with_row_index(\"station_id\")\n",
    ")\n",
    "\n",
    "# Add station IDs to original dataframe by joining on station_name\n",
    "new_df = velib.join(\n",
    "    station_mapping,\n",
    "    on=\"station_name\",\n",
    "    how=\"left\"\n",
    ")\n",
    "\n",
    "new_df = new_df.with_columns(\n",
    "    pl.col(\"station_id\").cast(pl.String).cast(pl.Categorical)\n",
    ")\n",
    "\n",
    "# Replace station_name with station_id and reorder columns\n",
    "new_df = new_df.select([\n",
    "    \"date\",\n",
    "    \"hour\", \n",
    "    \"station_id\",\n",
    "    \"total_available\",\n",
    "    \"available_mechanical\", \n",
    "    \"available_electrical\",\n",
    "    \"free_terminals\"\n",
    "])\n",
    "\n",
    "print(\"Station ID Mapping:\")\n",
    "print(station_mapping.head())\n",
    "print(\"\\nUpdated Velib Data:\")\n",
    "new_df.head()"
   ]
  },
  {
   "cell_type": "code",
   "execution_count": 194,
   "metadata": {},
   "outputs": [],
   "source": [
    "# Sort by station_id, date and hour to ensure proper lag calculation\n",
    "df_sorted = new_df.sort([\"station_id\", \"date\", \"hour\"])\n",
    "\n",
    "# Get unique station IDs\n",
    "unique_stations = df_sorted.get_column(\"station_id\").unique().to_list()\n",
    "\n",
    "# Create list to store DataFrames with lagged features for each station\n",
    "station_lag_dfs = []\n",
    "\n",
    "# For each station, create lagged features\n",
    "for station_id in unique_stations:\n",
    "    # Filter data for current station\n",
    "    station_df = df_sorted.filter(pl.col(\"station_id\") == station_id)\n",
    "    \n",
    "    # Create lag columns for total_available\n",
    "    lag_columns = []\n",
    "    for i in range(1, 25):\n",
    "        lag_columns.append(\n",
    "            pl.col(\"total_available\").shift(i).alias(f\"total_available_lag_{i}\")\n",
    "        )\n",
    "    \n",
    "    # Add lag columns to station DataFrame\n",
    "    station_with_lags = station_df.with_columns(lag_columns).select(\n",
    "        [\"station_id\", \"date\", \"hour\", \"total_available\"] + \n",
    "        [f\"total_available_lag_{i}\" for i in range(1, 25)]\n",
    "    )\n",
    "    \n",
    "    # Drop rows with any null values (first 24 hours)\n",
    "    station_with_lags = station_with_lags.drop_nulls()\n",
    "    \n",
    "    if len(station_with_lags) > 0:  # Only append if we have data after dropping nulls\n",
    "        station_lag_dfs.append(station_with_lags)\n"
   ]
  },
  {
   "cell_type": "code",
   "execution_count": 195,
   "metadata": {},
   "outputs": [
    {
     "name": "stdout",
     "output_type": "stream",
     "text": [
      "Created lag features for 1396 stations\n",
      "\n",
      "Example of lagged features for station 966:\n",
      "Shape of the station's DataFrame: (3056, 28)\n"
     ]
    },
    {
     "data": {
      "text/html": [
       "<div><style>\n",
       ".dataframe > thead > tr,\n",
       ".dataframe > tbody > tr {\n",
       "  text-align: right;\n",
       "  white-space: pre-wrap;\n",
       "}\n",
       "</style>\n",
       "<small>shape: (10, 28)</small><table border=\"1\" class=\"dataframe\"><thead><tr><th>station_id</th><th>date</th><th>hour</th><th>total_available</th><th>total_available_lag_1</th><th>total_available_lag_2</th><th>total_available_lag_3</th><th>total_available_lag_4</th><th>total_available_lag_5</th><th>total_available_lag_6</th><th>total_available_lag_7</th><th>total_available_lag_8</th><th>total_available_lag_9</th><th>total_available_lag_10</th><th>total_available_lag_11</th><th>total_available_lag_12</th><th>total_available_lag_13</th><th>total_available_lag_14</th><th>total_available_lag_15</th><th>total_available_lag_16</th><th>total_available_lag_17</th><th>total_available_lag_18</th><th>total_available_lag_19</th><th>total_available_lag_20</th><th>total_available_lag_21</th><th>total_available_lag_22</th><th>total_available_lag_23</th><th>total_available_lag_24</th></tr><tr><td>cat</td><td>date</td><td>i32</td><td>i64</td><td>i64</td><td>i64</td><td>i64</td><td>i64</td><td>i64</td><td>i64</td><td>i64</td><td>i64</td><td>i64</td><td>i64</td><td>i64</td><td>i64</td><td>i64</td><td>i64</td><td>i64</td><td>i64</td><td>i64</td><td>i64</td><td>i64</td><td>i64</td><td>i64</td><td>i64</td><td>i64</td><td>i64</td></tr></thead><tbody><tr><td>&quot;970&quot;</td><td>2020-11-27</td><td>12</td><td>0</td><td>3</td><td>3</td><td>3</td><td>6</td><td>0</td><td>2</td><td>5</td><td>5</td><td>5</td><td>5</td><td>5</td><td>5</td><td>5</td><td>5</td><td>6</td><td>3</td><td>4</td><td>7</td><td>6</td><td>10</td><td>11</td><td>5</td><td>5</td><td>4</td></tr><tr><td>&quot;970&quot;</td><td>2020-11-27</td><td>13</td><td>5</td><td>0</td><td>3</td><td>3</td><td>3</td><td>6</td><td>0</td><td>2</td><td>5</td><td>5</td><td>5</td><td>5</td><td>5</td><td>5</td><td>5</td><td>5</td><td>6</td><td>3</td><td>4</td><td>7</td><td>6</td><td>10</td><td>11</td><td>5</td><td>5</td></tr><tr><td>&quot;970&quot;</td><td>2020-11-27</td><td>14</td><td>7</td><td>5</td><td>0</td><td>3</td><td>3</td><td>3</td><td>6</td><td>0</td><td>2</td><td>5</td><td>5</td><td>5</td><td>5</td><td>5</td><td>5</td><td>5</td><td>5</td><td>6</td><td>3</td><td>4</td><td>7</td><td>6</td><td>10</td><td>11</td><td>5</td></tr><tr><td>&quot;970&quot;</td><td>2020-11-27</td><td>15</td><td>11</td><td>7</td><td>5</td><td>0</td><td>3</td><td>3</td><td>3</td><td>6</td><td>0</td><td>2</td><td>5</td><td>5</td><td>5</td><td>5</td><td>5</td><td>5</td><td>5</td><td>5</td><td>6</td><td>3</td><td>4</td><td>7</td><td>6</td><td>10</td><td>11</td></tr><tr><td>&quot;970&quot;</td><td>2020-11-27</td><td>16</td><td>5</td><td>11</td><td>7</td><td>5</td><td>0</td><td>3</td><td>3</td><td>3</td><td>6</td><td>0</td><td>2</td><td>5</td><td>5</td><td>5</td><td>5</td><td>5</td><td>5</td><td>5</td><td>5</td><td>6</td><td>3</td><td>4</td><td>7</td><td>6</td><td>10</td></tr><tr><td>&quot;970&quot;</td><td>2020-11-27</td><td>17</td><td>0</td><td>5</td><td>11</td><td>7</td><td>5</td><td>0</td><td>3</td><td>3</td><td>3</td><td>6</td><td>0</td><td>2</td><td>5</td><td>5</td><td>5</td><td>5</td><td>5</td><td>5</td><td>5</td><td>5</td><td>6</td><td>3</td><td>4</td><td>7</td><td>6</td></tr><tr><td>&quot;970&quot;</td><td>2020-11-27</td><td>18</td><td>0</td><td>0</td><td>5</td><td>11</td><td>7</td><td>5</td><td>0</td><td>3</td><td>3</td><td>3</td><td>6</td><td>0</td><td>2</td><td>5</td><td>5</td><td>5</td><td>5</td><td>5</td><td>5</td><td>5</td><td>5</td><td>6</td><td>3</td><td>4</td><td>7</td></tr><tr><td>&quot;970&quot;</td><td>2020-11-27</td><td>19</td><td>7</td><td>0</td><td>0</td><td>5</td><td>11</td><td>7</td><td>5</td><td>0</td><td>3</td><td>3</td><td>3</td><td>6</td><td>0</td><td>2</td><td>5</td><td>5</td><td>5</td><td>5</td><td>5</td><td>5</td><td>5</td><td>5</td><td>6</td><td>3</td><td>4</td></tr><tr><td>&quot;970&quot;</td><td>2020-11-27</td><td>20</td><td>9</td><td>7</td><td>0</td><td>0</td><td>5</td><td>11</td><td>7</td><td>5</td><td>0</td><td>3</td><td>3</td><td>3</td><td>6</td><td>0</td><td>2</td><td>5</td><td>5</td><td>5</td><td>5</td><td>5</td><td>5</td><td>5</td><td>5</td><td>6</td><td>3</td></tr><tr><td>&quot;970&quot;</td><td>2020-11-27</td><td>21</td><td>6</td><td>9</td><td>7</td><td>0</td><td>0</td><td>5</td><td>11</td><td>7</td><td>5</td><td>0</td><td>3</td><td>3</td><td>3</td><td>6</td><td>0</td><td>2</td><td>5</td><td>5</td><td>5</td><td>5</td><td>5</td><td>5</td><td>5</td><td>5</td><td>6</td></tr></tbody></table></div>"
      ],
      "text/plain": [
       "shape: (10, 28)\n",
       "┌────────────┬────────────┬──────┬────────────┬───┬────────────┬───────────┬───────────┬───────────┐\n",
       "│ station_id ┆ date       ┆ hour ┆ total_avai ┆ … ┆ total_avai ┆ total_ava ┆ total_ava ┆ total_ava │\n",
       "│ ---        ┆ ---        ┆ ---  ┆ lable      ┆   ┆ lable_lag_ ┆ ilable_la ┆ ilable_la ┆ ilable_la │\n",
       "│ cat        ┆ date       ┆ i32  ┆ ---        ┆   ┆ 21         ┆ g_22      ┆ g_23      ┆ g_24      │\n",
       "│            ┆            ┆      ┆ i64        ┆   ┆ ---        ┆ ---       ┆ ---       ┆ ---       │\n",
       "│            ┆            ┆      ┆            ┆   ┆ i64        ┆ i64       ┆ i64       ┆ i64       │\n",
       "╞════════════╪════════════╪══════╪════════════╪═══╪════════════╪═══════════╪═══════════╪═══════════╡\n",
       "│ 970        ┆ 2020-11-27 ┆ 12   ┆ 0          ┆ … ┆ 11         ┆ 5         ┆ 5         ┆ 4         │\n",
       "│ 970        ┆ 2020-11-27 ┆ 13   ┆ 5          ┆ … ┆ 10         ┆ 11        ┆ 5         ┆ 5         │\n",
       "│ 970        ┆ 2020-11-27 ┆ 14   ┆ 7          ┆ … ┆ 6          ┆ 10        ┆ 11        ┆ 5         │\n",
       "│ 970        ┆ 2020-11-27 ┆ 15   ┆ 11         ┆ … ┆ 7          ┆ 6         ┆ 10        ┆ 11        │\n",
       "│ 970        ┆ 2020-11-27 ┆ 16   ┆ 5          ┆ … ┆ 4          ┆ 7         ┆ 6         ┆ 10        │\n",
       "│ 970        ┆ 2020-11-27 ┆ 17   ┆ 0          ┆ … ┆ 3          ┆ 4         ┆ 7         ┆ 6         │\n",
       "│ 970        ┆ 2020-11-27 ┆ 18   ┆ 0          ┆ … ┆ 6          ┆ 3         ┆ 4         ┆ 7         │\n",
       "│ 970        ┆ 2020-11-27 ┆ 19   ┆ 7          ┆ … ┆ 5          ┆ 6         ┆ 3         ┆ 4         │\n",
       "│ 970        ┆ 2020-11-27 ┆ 20   ┆ 9          ┆ … ┆ 5          ┆ 5         ┆ 6         ┆ 3         │\n",
       "│ 970        ┆ 2020-11-27 ┆ 21   ┆ 6          ┆ … ┆ 5          ┆ 5         ┆ 5         ┆ 6         │\n",
       "└────────────┴────────────┴──────┴────────────┴───┴────────────┴───────────┴───────────┴───────────┘"
      ]
     },
     "execution_count": 195,
     "metadata": {},
     "output_type": "execute_result"
    }
   ],
   "source": [
    "idx = np.random.randint(0, len(station_lag_dfs))\n",
    "print(f\"Created lag features for {len(station_lag_dfs)} stations\")\n",
    "print(f\"\\nExample of lagged features for station {idx}:\")\n",
    "print(f\"Shape of the station's DataFrame: {station_lag_dfs[idx].shape}\")\n",
    "station_lag_dfs[idx].head(10)"
   ]
  }
 ],
 "metadata": {
  "kernelspec": {
   "display_name": "stenv",
   "language": "python",
   "name": "python3"
  },
  "language_info": {
   "codemirror_mode": {
    "name": "ipython",
    "version": 3
   },
   "file_extension": ".py",
   "mimetype": "text/x-python",
   "name": "python",
   "nbconvert_exporter": "python",
   "pygments_lexer": "ipython3",
   "version": "3.12.9"
  }
 },
 "nbformat": 4,
 "nbformat_minor": 2
}
