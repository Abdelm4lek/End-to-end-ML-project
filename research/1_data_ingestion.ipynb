{
 "cells": [
  {
   "cell_type": "code",
   "execution_count": 210,
   "id": "bef4f405",
   "metadata": {},
   "outputs": [],
   "source": [
    "import os\n",
    "import json\n",
    "import pandas as pd\n",
    "from datetime import datetime, timezone\n",
    "import requests\n",
    "import re"
   ]
  },
  {
   "cell_type": "code",
   "execution_count": 211,
   "id": "1b19bac0",
   "metadata": {},
   "outputs": [
    {
     "data": {
      "text/plain": [
       "'C:\\\\Users\\\\pc\\\\Desktop\\\\GitHub repos\\\\End-to-end-ML-project-with-MLflow'"
      ]
     },
     "execution_count": 211,
     "metadata": {},
     "output_type": "execute_result"
    }
   ],
   "source": [
    "%pwd"
   ]
  },
  {
   "cell_type": "code",
   "execution_count": 212,
   "id": "e6d37d83",
   "metadata": {},
   "outputs": [],
   "source": [
    "os.chdir(\"C:/Users/pc/Desktop/GitHub repos/End-to-end-ML-project-with-MLflow\")"
   ]
  },
  {
   "cell_type": "code",
   "execution_count": 213,
   "id": "d0955a0e",
   "metadata": {},
   "outputs": [
    {
     "data": {
      "text/plain": [
       "'C:\\\\Users\\\\pc\\\\Desktop\\\\GitHub repos\\\\End-to-end-ML-project-with-MLflow'"
      ]
     },
     "execution_count": 213,
     "metadata": {},
     "output_type": "execute_result"
    }
   ],
   "source": [
    "%pwd"
   ]
  },
  {
   "cell_type": "code",
   "execution_count": 214,
   "id": "0b4eb972",
   "metadata": {},
   "outputs": [],
   "source": [
    "from dataclasses import dataclass\n",
    "from pathlib import Path\n",
    "\n",
    "\n",
    "@dataclass(frozen=True)\n",
    "class DataIngestionConfig:\n",
    "    root_dir: Path\n",
    "    source_URL: str\n",
    "    local_data_file: Path\n",
    "    unzip_dir: Path"
   ]
  },
  {
   "cell_type": "code",
   "execution_count": 215,
   "id": "35058e22",
   "metadata": {},
   "outputs": [],
   "source": [
    "from src.mlProject.constants.__init__ import *\n",
    "from src.mlProject.utils.common import read_yaml, create_dirs"
   ]
  },
  {
   "cell_type": "code",
   "execution_count": 216,
   "id": "b3b08e5a",
   "metadata": {},
   "outputs": [],
   "source": [
    "class ConfigurationManager:\n",
    "    def __init__(\n",
    "        self,\n",
    "        config_filepath = CONFIG_FILE_PATH,\n",
    "        params_filepath = PARAMS_FILE_PATH,\n",
    "        schema_filepath = SCHEMA_FILE_PATH):\n",
    "\n",
    "        self.config = read_yaml(config_filepath)\n",
    "        self.params = read_yaml(params_filepath)\n",
    "        self.schema = read_yaml(schema_filepath)\n",
    "\n",
    "        create_dirs([self.config.artifacts_root])\n",
    "\n",
    "\n",
    "    \n",
    "    def get_data_ingestion_config(self) -> DataIngestionConfig:\n",
    "        config = self.config.data_ingestion\n",
    "\n",
    "        create_dirs([config.root_dir])\n",
    "\n",
    "        data_ingestion_config = DataIngestionConfig(\n",
    "            root_dir = config.root_dir,\n",
    "            source_URL = config.source_URL,\n",
    "            local_data_file = config.local_data_file,\n",
    "            unzip_dir = config.unzip_dir \n",
    "        )\n",
    "\n",
    "        return data_ingestion_config"
   ]
  },
  {
   "cell_type": "code",
   "execution_count": 217,
   "id": "f9769988",
   "metadata": {},
   "outputs": [],
   "source": [
    "import os\n",
    "import urllib.request as request\n",
    "import patoolib\n",
    "from src.mlProject import logger\n",
    "from src.mlProject.utils.common import get_size"
   ]
  },
  {
   "cell_type": "code",
   "execution_count": 218,
   "id": "51822554",
   "metadata": {},
   "outputs": [],
   "source": [
    "class DataIngestion:\n",
    "    def __init__(self, config: DataIngestionConfig):\n",
    "        self.config = config\n",
    "\n",
    "    \n",
    "    def download_file(self):\n",
    "        if not os.path.exists(self.config.local_data_file):\n",
    "            filename, headers = request.urlretrieve(\n",
    "                url = self.config.source_URL,\n",
    "                filename = self.config.local_data_file\n",
    "            )\n",
    "            logger.info(f\"{filename} download! with following info: \\n{headers}\")\n",
    "        else:\n",
    "            logger.info(f\"File already exists of size: {get_size(Path(self.config.local_data_file))}\")\n",
    "\n",
    "\n",
    "\n",
    "    def extract_archive_file(self):\n",
    "        \"\"\"\n",
    "        Extracts the archive file (zip or rar) into the data directory\n",
    "        Function returns None\n",
    "        \"\"\"\n",
    "        unzip_path = self.config.unzip_dir\n",
    "        os.makedirs(unzip_path, exist_ok=True)\n",
    "        \n",
    "        try:\n",
    "            patoolib.extract_archive(self.config.local_data_file, outdir=unzip_path)\n",
    "            logger.info(f\"Successfully extracted archive to {unzip_path}\")\n",
    "        except Exception as e:\n",
    "            logger.error(f\"Error extracting archive: {str(e)}\")\n",
    "            raise e"
   ]
  },
  {
   "cell_type": "code",
   "execution_count": 220,
   "id": "10c3252a",
   "metadata": {},
   "outputs": [
    {
     "name": "stdout",
     "output_type": "stream",
     "text": [
      "[2025-05-19 22:22:24,332: INFO: common: yaml file: config\\config.yaml loaded successfully]\n",
      "[2025-05-19 22:22:24,335: INFO: common: yaml file: params.yaml loaded successfully]\n",
      "[2025-05-19 22:22:24,337: INFO: common: yaml file: schema.yaml loaded successfully]\n",
      "[2025-05-19 22:22:24,339: INFO: common: created directory at: artifacts]\n",
      "[2025-05-19 22:22:24,340: INFO: common: created directory at: artifacts/data_ingestion]\n",
      "[2025-05-19 22:22:28,873: INFO: 1833220833: artifacts/data_ingestion/velib_data.rar download! with following info: \n",
      "Connection: close\n",
      "Content-Length: 41219934\n",
      "Cache-Control: max-age=300\n",
      "Content-Security-Policy: default-src 'none'; style-src 'unsafe-inline'; sandbox\n",
      "Content-Type: application/octet-stream\n",
      "ETag: \"dd9b7106cfcfde11a23c3e79aa1dba5931bb5e51b19b918163c0effa986f420d\"\n",
      "Strict-Transport-Security: max-age=31536000\n",
      "X-Content-Type-Options: nosniff\n",
      "X-Frame-Options: deny\n",
      "X-XSS-Protection: 1; mode=block\n",
      "X-GitHub-Request-Id: A9BC:3C7ED1:4382C81:4A1B585:682B9207\n",
      "Accept-Ranges: bytes\n",
      "Date: Mon, 19 May 2025 20:22:22 GMT\n",
      "Via: 1.1 varnish\n",
      "X-Served-By: cache-par-lfpg1960074-PAR\n",
      "X-Cache: HIT\n",
      "X-Cache-Hits: 0\n",
      "X-Timer: S1747686142.248905,VS0,VE1\n",
      "Vary: Authorization,Accept-Encoding,Origin\n",
      "Access-Control-Allow-Origin: *\n",
      "Cross-Origin-Resource-Policy: cross-origin\n",
      "X-Fastly-Request-ID: 464954fc59ba27754b92ed1589d031a9aedfe322\n",
      "Expires: Mon, 19 May 2025 20:27:22 GMT\n",
      "Source-Age: 246\n",
      "\n",
      "]\n"
     ]
    },
    {
     "name": "stderr",
     "output_type": "stream",
     "text": [
      "INFO patool: Extracting artifacts/data_ingestion/velib_data.rar ...\n"
     ]
    },
    {
     "name": "stdout",
     "output_type": "stream",
     "text": [
      "[2025-05-19 22:22:28,875: INFO: log: Extracting artifacts/data_ingestion/velib_data.rar ...]\n"
     ]
    },
    {
     "name": "stderr",
     "output_type": "stream",
     "text": [
      "INFO patool: running \"C:\\Program Files\\WinRAR\\rar.EXE\" x -kb -or -- \"C:\\Users\\pc\\Desktop\\GitHub repos\\End-to-end-ML-project-with-MLflow\\artifacts\\data_ingestion\\velib_data.rar\"\n"
     ]
    },
    {
     "name": "stdout",
     "output_type": "stream",
     "text": [
      "[2025-05-19 22:22:28,877: INFO: log: running \"C:\\Program Files\\WinRAR\\rar.EXE\" x -kb -or -- \"C:\\Users\\pc\\Desktop\\GitHub repos\\End-to-end-ML-project-with-MLflow\\artifacts\\data_ingestion\\velib_data.rar\"]\n"
     ]
    },
    {
     "name": "stderr",
     "output_type": "stream",
     "text": [
      "INFO patool: ... artifacts/data_ingestion/velib_data.rar extracted to `artifacts/data_ingestion'.\n"
     ]
    },
    {
     "name": "stdout",
     "output_type": "stream",
     "text": [
      "[2025-05-19 22:22:29,793: INFO: log: ... artifacts/data_ingestion/velib_data.rar extracted to `artifacts/data_ingestion'.]\n",
      "[2025-05-19 22:22:29,795: INFO: 1833220833: Successfully extracted archive to artifacts/data_ingestion]\n"
     ]
    }
   ],
   "source": [
    "try:\n",
    "    config = ConfigurationManager()\n",
    "    data_ingestion_config = config.get_data_ingestion_config()\n",
    "    data_ingestion = DataIngestion(config=data_ingestion_config)\n",
    "    data_ingestion.download_file()\n",
    "    data_ingestion.extract_archive_file()\n",
    "except Exception as e:\n",
    "    raise e"
   ]
  },
  {
   "cell_type": "code",
   "execution_count": null,
   "id": "bd23d438",
   "metadata": {},
   "outputs": [],
   "source": []
  }
 ],
 "metadata": {
  "kernelspec": {
   "display_name": "stenv",
   "language": "python",
   "name": "python3"
  },
  "language_info": {
   "codemirror_mode": {
    "name": "ipython",
    "version": 3
   },
   "file_extension": ".py",
   "mimetype": "text/x-python",
   "name": "python",
   "nbconvert_exporter": "python",
   "pygments_lexer": "ipython3",
   "version": "3.12.9"
  }
 },
 "nbformat": 4,
 "nbformat_minor": 5
}
