{
 "cells": [
  {
   "cell_type": "code",
   "execution_count": 94,
   "metadata": {},
   "outputs": [
    {
     "data": {
      "text/plain": [
       "'C:\\\\Users\\\\pc\\\\Desktop\\\\GitHub repos\\\\End-to-end-ML-project-with-MLflows'"
      ]
     },
     "execution_count": 94,
     "metadata": {},
     "output_type": "execute_result"
    }
   ],
   "source": [
    "%pwd"
   ]
  },
  {
   "cell_type": "code",
   "execution_count": 95,
   "metadata": {},
   "outputs": [],
   "source": [
    "import os\n",
    "os.chdir(\"./\")"
   ]
  },
  {
   "cell_type": "code",
   "execution_count": 96,
   "metadata": {},
   "outputs": [
    {
     "data": {
      "text/plain": [
       "'C:\\\\Users\\\\pc\\\\Desktop\\\\GitHub repos\\\\End-to-end-ML-project-with-MLflows'"
      ]
     },
     "execution_count": 96,
     "metadata": {},
     "output_type": "execute_result"
    }
   ],
   "source": [
    "%pwd"
   ]
  },
  {
   "cell_type": "code",
   "execution_count": 97,
   "metadata": {},
   "outputs": [],
   "source": [
    "import polars as pl"
   ]
  },
  {
   "cell_type": "code",
   "execution_count": 98,
   "metadata": {},
   "outputs": [
    {
     "data": {
      "text/html": [
       "<div><style>\n",
       ".dataframe > thead > tr,\n",
       ".dataframe > tbody > tr {\n",
       "  text-align: right;\n",
       "  white-space: pre-wrap;\n",
       "}\n",
       "</style>\n",
       "<small>shape: (5, 7)</small><table border=\"1\" class=\"dataframe\"><thead><tr><th>datetime</th><th>capacity</th><th>available_mechanical</th><th>available_electrical</th><th>station_name</th><th>station_geo</th><th>operative</th></tr><tr><td>str</td><td>i64</td><td>i64</td><td>i64</td><td>str</td><td>str</td><td>bool</td></tr></thead><tbody><tr><td>&quot;2020-11-26T12:59Z&quot;</td><td>35</td><td>4</td><td>5</td><td>&quot;Benjamin Godard - Victor Hugo&quot;</td><td>&quot;48.86598,2.27572&quot;</td><td>true</td></tr><tr><td>&quot;2020-11-26T12:59Z&quot;</td><td>55</td><td>23</td><td>4</td><td>&quot;André Mazet - Saint-André des …</td><td>&quot;48.85376,2.33910&quot;</td><td>true</td></tr><tr><td>&quot;2020-11-26T12:59Z&quot;</td><td>20</td><td>0</td><td>0</td><td>&quot;Charonne - Robert et Sonia Del…</td><td>&quot;48.85591,2.39257&quot;</td><td>true</td></tr><tr><td>&quot;2020-11-26T12:59Z&quot;</td><td>21</td><td>0</td><td>1</td><td>&quot;Toudouze - Clauzel&quot;</td><td>&quot;48.87930,2.33736&quot;</td><td>true</td></tr><tr><td>&quot;2020-11-26T12:59Z&quot;</td><td>30</td><td>3</td><td>1</td><td>&quot;Mairie du 12ème&quot;</td><td>&quot;48.84086,2.38755&quot;</td><td>true</td></tr></tbody></table></div>"
      ],
      "text/plain": [
       "shape: (5, 7)\n",
       "┌───────────────┬──────────┬──────────────┬──────────────┬──────────────┬──────────────┬───────────┐\n",
       "│ datetime      ┆ capacity ┆ available_me ┆ available_el ┆ station_name ┆ station_geo  ┆ operative │\n",
       "│ ---           ┆ ---      ┆ chanical     ┆ ectrical     ┆ ---          ┆ ---          ┆ ---       │\n",
       "│ str           ┆ i64      ┆ ---          ┆ ---          ┆ str          ┆ str          ┆ bool      │\n",
       "│               ┆          ┆ i64          ┆ i64          ┆              ┆              ┆           │\n",
       "╞═══════════════╪══════════╪══════════════╪══════════════╪══════════════╪══════════════╪═══════════╡\n",
       "│ 2020-11-26T12 ┆ 35       ┆ 4            ┆ 5            ┆ Benjamin     ┆ 48.86598,2.2 ┆ true      │\n",
       "│ :59Z          ┆          ┆              ┆              ┆ Godard -     ┆ 7572         ┆           │\n",
       "│               ┆          ┆              ┆              ┆ Victor Hugo  ┆              ┆           │\n",
       "│ 2020-11-26T12 ┆ 55       ┆ 23           ┆ 4            ┆ André Mazet  ┆ 48.85376,2.3 ┆ true      │\n",
       "│ :59Z          ┆          ┆              ┆              ┆ -            ┆ 3910         ┆           │\n",
       "│               ┆          ┆              ┆              ┆ Saint-André  ┆              ┆           │\n",
       "│               ┆          ┆              ┆              ┆ des …        ┆              ┆           │\n",
       "│ 2020-11-26T12 ┆ 20       ┆ 0            ┆ 0            ┆ Charonne -   ┆ 48.85591,2.3 ┆ true      │\n",
       "│ :59Z          ┆          ┆              ┆              ┆ Robert et    ┆ 9257         ┆           │\n",
       "│               ┆          ┆              ┆              ┆ Sonia Del…   ┆              ┆           │\n",
       "│ 2020-11-26T12 ┆ 21       ┆ 0            ┆ 1            ┆ Toudouze -   ┆ 48.87930,2.3 ┆ true      │\n",
       "│ :59Z          ┆          ┆              ┆              ┆ Clauzel      ┆ 3736         ┆           │\n",
       "│ 2020-11-26T12 ┆ 30       ┆ 3            ┆ 1            ┆ Mairie du    ┆ 48.84086,2.3 ┆ true      │\n",
       "│ :59Z          ┆          ┆              ┆              ┆ 12ème        ┆ 8755         ┆           │\n",
       "└───────────────┴──────────┴──────────────┴──────────────┴──────────────┴──────────────┴───────────┘"
      ]
     },
     "execution_count": 98,
     "metadata": {},
     "output_type": "execute_result"
    }
   ],
   "source": [
    "velib = pl.read_csv(\"C:/Users/pc/Desktop/historique_stations.csv\")\n",
    "velib.head()"
   ]
  },
  {
   "cell_type": "code",
   "execution_count": 99,
   "metadata": {},
   "outputs": [
    {
     "data": {
      "text/plain": [
       "[String, Int64, Int64, Int64, String, String, Boolean]"
      ]
     },
     "execution_count": 99,
     "metadata": {},
     "output_type": "execute_result"
    }
   ],
   "source": [
    "velib.dtypes"
   ]
  },
  {
   "cell_type": "code",
   "execution_count": 100,
   "metadata": {},
   "outputs": [
    {
     "data": {
      "text/plain": [
       "(10986730, 7)"
      ]
     },
     "execution_count": 100,
     "metadata": {},
     "output_type": "execute_result"
    }
   ],
   "source": [
    "velib.shape"
   ]
  },
  {
   "cell_type": "code",
   "execution_count": 101,
   "metadata": {},
   "outputs": [
    {
     "data": {
      "text/html": [
       "<div><style>\n",
       ".dataframe > thead > tr,\n",
       ".dataframe > tbody > tr {\n",
       "  text-align: right;\n",
       "  white-space: pre-wrap;\n",
       "}\n",
       "</style>\n",
       "<small>shape: (1, 7)</small><table border=\"1\" class=\"dataframe\"><thead><tr><th>datetime</th><th>capacity</th><th>available_mechanical</th><th>available_electrical</th><th>station_name</th><th>station_geo</th><th>operative</th></tr><tr><td>u32</td><td>u32</td><td>u32</td><td>u32</td><td>u32</td><td>u32</td><td>u32</td></tr></thead><tbody><tr><td>0</td><td>0</td><td>0</td><td>0</td><td>0</td><td>0</td><td>0</td></tr></tbody></table></div>"
      ],
      "text/plain": [
       "shape: (1, 7)\n",
       "┌──────────┬──────────┬─────────────────┬─────────────────┬──────────────┬─────────────┬───────────┐\n",
       "│ datetime ┆ capacity ┆ available_mecha ┆ available_elect ┆ station_name ┆ station_geo ┆ operative │\n",
       "│ ---      ┆ ---      ┆ nical           ┆ rical           ┆ ---          ┆ ---         ┆ ---       │\n",
       "│ u32      ┆ u32      ┆ ---             ┆ ---             ┆ u32          ┆ u32         ┆ u32       │\n",
       "│          ┆          ┆ u32             ┆ u32             ┆              ┆             ┆           │\n",
       "╞══════════╪══════════╪═════════════════╪═════════════════╪══════════════╪═════════════╪═══════════╡\n",
       "│ 0        ┆ 0        ┆ 0               ┆ 0               ┆ 0            ┆ 0           ┆ 0         │\n",
       "└──────────┴──────────┴─────────────────┴─────────────────┴──────────────┴─────────────┴───────────┘"
      ]
     },
     "execution_count": 101,
     "metadata": {},
     "output_type": "execute_result"
    }
   ],
   "source": [
    "velib.null_count()\n"
   ]
  },
  {
   "cell_type": "code",
   "execution_count": 102,
   "metadata": {},
   "outputs": [
    {
     "data": {
      "text/plain": [
       "0"
      ]
     },
     "execution_count": 102,
     "metadata": {},
     "output_type": "execute_result"
    }
   ],
   "source": [
    "velib.is_duplicated().sum()\n"
   ]
  },
  {
   "cell_type": "code",
   "execution_count": 103,
   "metadata": {},
   "outputs": [],
   "source": [
    "from dataclasses import dataclass\n",
    "from pathlib import Path\n",
    "\n",
    "\n",
    "@dataclass(frozen=True)\n",
    "class DataValidationConfig:\n",
    "    root_dir: Path\n",
    "    STATUS_FILE: str\n",
    "    unzip_data_dir: Path\n",
    "    all_schema: dict"
   ]
  },
  {
   "cell_type": "code",
   "execution_count": 104,
   "metadata": {},
   "outputs": [],
   "source": [
    "from mlProject.constants import *\n",
    "from mlProject.utils.common import read_yaml, create_dirs\n",
    "from mlProject import logger"
   ]
  },
  {
   "cell_type": "code",
   "execution_count": 105,
   "metadata": {},
   "outputs": [],
   "source": [
    "class ConfigurationManager:\n",
    "    def __init__(\n",
    "        self,\n",
    "        config_filepath = CONFIG_FILE_PATH,\n",
    "        params_filepath = PARAMS_FILE_PATH,\n",
    "        schema_filepath = SCHEMA_FILE_PATH):\n",
    "\n",
    "        self.config = read_yaml(config_filepath)\n",
    "        self.params = read_yaml(params_filepath)\n",
    "        self.schema = read_yaml(schema_filepath)\n",
    "\n",
    "        create_dirs([self.config.artifacts_root])\n",
    "\n",
    "\n",
    "    \n",
    "    def get_data_validation_config(self) -> DataValidationConfig:\n",
    "        config = self.config.data_validation\n",
    "        schema = self.schema.COLUMNS\n",
    "\n",
    "        create_dirs([config.root_dir])\n",
    "\n",
    "        data_validation_config = DataValidationConfig(\n",
    "            root_dir=config.root_dir,\n",
    "            STATUS_FILE=config.STATUS_FILE,\n",
    "            unzip_data_dir = config.unzip_data_dir,\n",
    "            all_schema=schema,\n",
    "        )\n",
    "\n",
    "        return data_validation_config"
   ]
  },
  {
   "cell_type": "code",
   "execution_count": 106,
   "metadata": {},
   "outputs": [],
   "source": [
    "class DataValidation:\n",
    "    def __init__(self, config: DataValidationConfig):\n",
    "        self.config = config\n",
    "\n",
    "\n",
    "    def validate_all_columns(self)-> bool:\n",
    "        try:\n",
    "            validation_status = None\n",
    "\n",
    "            data = pl.read_csv(self.config.unzip_data_dir)\n",
    "            all_cols = list(data.columns)\n",
    "\n",
    "            all_schema = self.config.all_schema.keys()\n",
    "\n",
    "            \n",
    "            for col in all_cols:\n",
    "                if col not in all_schema:\n",
    "                    validation_status = False\n",
    "                    with open(self.config.STATUS_FILE, 'w') as f:\n",
    "                        f.write(f\"Validation status: {validation_status}\")\n",
    "                else:\n",
    "                    validation_status = True\n",
    "                    with open(self.config.STATUS_FILE, 'w') as f:\n",
    "                        f.write(f\"Validation status: {validation_status}\")\n",
    "\n",
    "            return validation_status\n",
    "        \n",
    "        except Exception as e:\n",
    "            raise e"
   ]
  },
  {
   "cell_type": "code",
   "execution_count": 107,
   "metadata": {},
   "outputs": [
    {
     "name": "stdout",
     "output_type": "stream",
     "text": [
      "[2025-04-19 15:42:15,344: INFO: common: yaml file: config\\config.yaml loaded successfully]\n",
      "[2025-04-19 15:42:15,347: INFO: common: yaml file: params.yaml loaded successfully]\n",
      "[2025-04-19 15:42:15,349: INFO: common: yaml file: schema.yaml loaded successfully]\n",
      "[2025-04-19 15:42:15,351: INFO: common: created directory at: artifacts]\n",
      "[2025-04-19 15:42:15,353: INFO: common: created directory at: artifacts/data_validation]\n"
     ]
    }
   ],
   "source": [
    "try:\n",
    "    config = ConfigurationManager()\n",
    "    data_validation_config = config.get_data_validation_config()\n",
    "    data_validation = DataValidation(config=data_validation_config)\n",
    "    data_validation.validate_all_columns()\n",
    "except Exception as e:\n",
    "    raise e"
   ]
  },
  {
   "cell_type": "code",
   "execution_count": null,
   "metadata": {},
   "outputs": [],
   "source": []
  }
 ],
 "metadata": {
  "kernelspec": {
   "display_name": "stenv",
   "language": "python",
   "name": "python3"
  },
  "language_info": {
   "codemirror_mode": {
    "name": "ipython",
    "version": 3
   },
   "file_extension": ".py",
   "mimetype": "text/x-python",
   "name": "python",
   "nbconvert_exporter": "python",
   "pygments_lexer": "ipython3",
   "version": "3.12.9"
  }
 },
 "nbformat": 4,
 "nbformat_minor": 2
}
