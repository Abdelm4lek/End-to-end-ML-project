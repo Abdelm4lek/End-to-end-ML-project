{
 "cells": [
  {
   "cell_type": "code",
   "execution_count": null,
   "id": "bef4f405",
   "metadata": {},
   "outputs": [],
   "source": [
    "import os\n",
    "import requests\n",
    "import json"
   ]
  },
  {
   "cell_type": "code",
   "execution_count": 10,
   "id": "899952fc",
   "metadata": {},
   "outputs": [],
   "source": [
    "# Configuration\n",
    "API_TOKEN = os.environ.get(\"WAQI_API_KEY\")  # API token for WAQI saved as an environment variable\n",
    "BASE_URL = \"https://api.waqi.info/feed/\""
   ]
  },
  {
   "cell_type": "code",
   "execution_count": 11,
   "id": "730c6229",
   "metadata": {},
   "outputs": [],
   "source": [
    "# Fetch Real-time Data for a city\n",
    "def get_realtime_aqi_waqi(city_name):\n",
    "    \"\"\"Fetches real-time AQI data for a specific city using WAQI API.\"\"\"\n",
    "    url = f\"{BASE_URL}{city_name}/?token={API_TOKEN}\"\n",
    "    try:\n",
    "        response = requests.get(url)\n",
    "        response.raise_for_status() # Raise an exception for bad status codes (4xx or 5xx)\n",
    "        data = response.json()\n",
    "        if data.get(\"status\") == \"ok\":\n",
    "            return data[\"data\"]\n",
    "        else:\n",
    "            print(f\"Error fetching real-time data for {city_name}: {data.get('data')}\")\n",
    "            return None\n",
    "    except requests.exceptions.RequestException as e:\n",
    "        print(f\"Network error fetching real-time data for {city_name}: {e}\")\n",
    "        return None\n",
    "    except json.JSONDecodeError:\n",
    "        print(f\"Error decoding JSON response for {city_name}\")\n",
    "        return None"
   ]
  },
  {
   "cell_type": "code",
   "execution_count": 31,
   "id": "6b626dad",
   "metadata": {},
   "outputs": [
    {
     "name": "stdout",
     "output_type": "stream",
     "text": [
      "\n",
      "--- Real-time Data for Paris (WAQI) ---\n",
      "AQI: 80\n",
      "Dominant Pollutant: pm25\n",
      "Pollutant Details (iaqi):\n",
      "  - co: 0.1\n",
      "  - h: 30.6\n",
      "  - no2: 35.2\n",
      "  - o3: 32\n",
      "  - p: 1024.5\n",
      "  - pm10: 15\n",
      "  - pm25: 80\n",
      "  - so2: 0.6\n",
      "  - t: 14.4\n",
      "  - w: 1.2\n",
      "Last update: 2025-04-07T18:00:00+02:00\n"
     ]
    }
   ],
   "source": [
    "# Example Usage\n",
    "city = \"Paris\" # Or use specific station ID like \"@1437\" for a specific city station\n",
    "real_time_data = get_realtime_aqi_waqi(city)\n",
    "\n",
    "if real_time_data:\n",
    "    print(f\"\\n--- Real-time Data for {city} (WAQI) ---\")\n",
    "    print(f\"AQI: {real_time_data.get('aqi')}\")\n",
    "    print(f\"Dominant Pollutant: {real_time_data.get('dominentpol')}\")\n",
    "    print(\"Pollutant Details (iaqi):\")\n",
    "    for pollutant, details in real_time_data.get('iaqi').items():\n",
    "        print(f\"  - {pollutant}: {details.get('v')}\")\n",
    "    print(f\"Last update: {real_time_data.get('time').get('iso')}\")"
   ]
  }
 ],
 "metadata": {
  "kernelspec": {
   "display_name": "stenv",
   "language": "python",
   "name": "python3"
  },
  "language_info": {
   "codemirror_mode": {
    "name": "ipython",
    "version": 3
   },
   "file_extension": ".py",
   "mimetype": "text/x-python",
   "name": "python",
   "nbconvert_exporter": "python",
   "pygments_lexer": "ipython3",
   "version": "3.12.9"
  }
 },
 "nbformat": 4,
 "nbformat_minor": 5
}
