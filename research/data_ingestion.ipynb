{
 "cells": [
  {
   "cell_type": "code",
   "execution_count": 5,
   "id": "bef4f405",
   "metadata": {},
   "outputs": [],
   "source": [
    "import os\n",
    "import requests\n",
    "import json\n",
    "import pandas as pd\n",
    "from datetime import datetime, timezone"
   ]
  },
  {
   "cell_type": "code",
   "execution_count": 6,
   "id": "899952fc",
   "metadata": {},
   "outputs": [],
   "source": [
    "# Configuration\n",
    "API_TOKEN = os.environ.get(\"WAQI_API_KEY\")  # API token for WAQI saved as an environment variable\n",
    "BASE_URL = \"https://api.waqi.info/feed/\""
   ]
  },
  {
   "cell_type": "code",
   "execution_count": 7,
   "id": "439109ab",
   "metadata": {},
   "outputs": [],
   "source": [
    "def get_realtime_aqi(city_name):\n",
    "    \"\"\"Fetches real-time AQI data for a specific city using WAQI API.\"\"\"\n",
    "    url = f\"{BASE_URL}{city_name}/?token={API_TOKEN}\"\n",
    "    try:\n",
    "        response = requests.get(url)\n",
    "        response.raise_for_status()  # Raise an exception for bad status codes\n",
    "        waqi_data = response.json()\n",
    "\n",
    "        if waqi_data['status'] == 'ok':\n",
    "            data = waqi_data['data']\n",
    "            aqi = data['aqi']\n",
    "            pollutants = data['iaqi'] # Individual pollutant data\n",
    "\n",
    "            # Create a dictionary to store the data\n",
    "            aqi_dict = {'timestamp': datetime.now(timezone.utc), 'aqi': aqi}\n",
    "            for pollutant, values in pollutants.items():\n",
    "                if 'v' in values:\n",
    "                    aqi_dict[pollutant] = values['v']\n",
    "\n",
    "            aqi_df = pd.DataFrame([aqi_dict])\n",
    "            aqi_df['timestamp'] = pd.to_datetime(aqi_df['timestamp'])\n",
    "            aqi_df.set_index('timestamp', inplace=True)\n",
    "            \n",
    "\n",
    "            print(f\"WAQI Data for {city_name} was ingested successfully!\")\n",
    "            return aqi_df\n",
    "\n",
    "        else:\n",
    "            print(f\"Error fetching WAQI data: {waqi_data['message']}\")\n",
    "\n",
    "    except requests.exceptions.RequestException as e:\n",
    "        print(f\"Error connecting to WAQI API: {e}\")\n",
    "    except json.JSONDecodeError as e:\n",
    "        print(f\"Error decoding WAQI JSON response: {e}\")\n",
    "    except KeyError as e:\n",
    "        print(f\"Error accessing key in WAQI data: {e}\")"
   ]
  },
  {
   "cell_type": "code",
   "execution_count": 8,
   "id": "6b626dad",
   "metadata": {},
   "outputs": [
    {
     "name": "stdout",
     "output_type": "stream",
     "text": [
      "WAQI Data for Paris was ingested successfully!\n"
     ]
    }
   ],
   "source": [
    "# Example Usage\n",
    "city = \"Paris\" # Or use specific station ID like \"@1437\" for a specific city station\n",
    "real_time_data = get_realtime_aqi(city)"
   ]
  },
  {
   "cell_type": "code",
   "execution_count": 9,
   "id": "d1665d86",
   "metadata": {},
   "outputs": [
    {
     "data": {
      "text/html": [
       "<div>\n",
       "<style scoped>\n",
       "    .dataframe tbody tr th:only-of-type {\n",
       "        vertical-align: middle;\n",
       "    }\n",
       "\n",
       "    .dataframe tbody tr th {\n",
       "        vertical-align: top;\n",
       "    }\n",
       "\n",
       "    .dataframe thead th {\n",
       "        text-align: right;\n",
       "    }\n",
       "</style>\n",
       "<table border=\"1\" class=\"dataframe\">\n",
       "  <thead>\n",
       "    <tr style=\"text-align: right;\">\n",
       "      <th></th>\n",
       "      <th>aqi</th>\n",
       "      <th>co</th>\n",
       "      <th>h</th>\n",
       "      <th>no2</th>\n",
       "      <th>o3</th>\n",
       "      <th>p</th>\n",
       "      <th>pm10</th>\n",
       "      <th>pm25</th>\n",
       "      <th>so2</th>\n",
       "      <th>t</th>\n",
       "      <th>w</th>\n",
       "    </tr>\n",
       "    <tr>\n",
       "      <th>timestamp</th>\n",
       "      <th></th>\n",
       "      <th></th>\n",
       "      <th></th>\n",
       "      <th></th>\n",
       "      <th></th>\n",
       "      <th></th>\n",
       "      <th></th>\n",
       "      <th></th>\n",
       "      <th></th>\n",
       "      <th></th>\n",
       "      <th></th>\n",
       "    </tr>\n",
       "  </thead>\n",
       "  <tbody>\n",
       "    <tr>\n",
       "      <th>2025-04-09 12:50:55.184099+00:00</th>\n",
       "      <td>40</td>\n",
       "      <td>0.1</td>\n",
       "      <td>40</td>\n",
       "      <td>24.7</td>\n",
       "      <td>18.9</td>\n",
       "      <td>1024.7</td>\n",
       "      <td>40</td>\n",
       "      <td>88</td>\n",
       "      <td>0.6</td>\n",
       "      <td>16.3</td>\n",
       "      <td>4.3</td>\n",
       "    </tr>\n",
       "  </tbody>\n",
       "</table>\n",
       "</div>"
      ],
      "text/plain": [
       "                                  aqi   co   h   no2    o3       p  pm10  \\\n",
       "timestamp                                                                  \n",
       "2025-04-09 12:50:55.184099+00:00   40  0.1  40  24.7  18.9  1024.7    40   \n",
       "\n",
       "                                  pm25  so2     t    w  \n",
       "timestamp                                               \n",
       "2025-04-09 12:50:55.184099+00:00    88  0.6  16.3  4.3  "
      ]
     },
     "execution_count": 9,
     "metadata": {},
     "output_type": "execute_result"
    }
   ],
   "source": [
    "real_time_data"
   ]
  },
  {
   "cell_type": "code",
   "execution_count": 4,
   "id": "e6d37d83",
   "metadata": {},
   "outputs": [],
   "source": [
    "os.chdir('../')"
   ]
  },
  {
   "cell_type": "code",
   "execution_count": 5,
   "id": "d0955a0e",
   "metadata": {},
   "outputs": [
    {
     "data": {
      "text/plain": [
       "'c:\\\\Users\\\\pc\\\\Desktop\\\\GitHub repos\\\\End-to-end-ML-project-with-MLflows'"
      ]
     },
     "execution_count": 5,
     "metadata": {},
     "output_type": "execute_result"
    }
   ],
   "source": [
    "%pwd"
   ]
  },
  {
   "cell_type": "code",
   "execution_count": 6,
   "id": "0b4eb972",
   "metadata": {},
   "outputs": [],
   "source": [
    "from dataclasses import dataclass\n",
    "from pathlib import Path\n",
    "\n",
    "\n",
    "@dataclass(frozen=True)\n",
    "class DataIngestionConfig:\n",
    "    root_dir: Path\n",
    "    source_URL: str\n",
    "    local_data_file: Path\n",
    "    unzip_dir: Path"
   ]
  },
  {
   "cell_type": "code",
   "execution_count": 7,
   "id": "35058e22",
   "metadata": {},
   "outputs": [],
   "source": [
    "from mlProject.constants.__init__ import *\n",
    "from mlProject.utils.common import read_yaml, create_dirs"
   ]
  },
  {
   "cell_type": "code",
   "execution_count": 8,
   "id": "b3b08e5a",
   "metadata": {},
   "outputs": [],
   "source": [
    "class ConfigurationManager:\n",
    "    def __init__(\n",
    "        self,\n",
    "        config_filepath = CONFIG_FILE_PATH,\n",
    "        params_filepath = PARAMS_FILE_PATH,\n",
    "        schema_filepath = SCHEMA_FILE_PATH):\n",
    "\n",
    "        self.config = read_yaml(config_filepath)\n",
    "        self.params = read_yaml(params_filepath)\n",
    "        self.schema = read_yaml(schema_filepath)\n",
    "\n",
    "        create_dirs([self.config.artifacts_root])\n",
    "\n",
    "\n",
    "    \n",
    "    def get_data_ingestion_config(self) -> DataIngestionConfig:\n",
    "        config = self.config.data_ingestion\n",
    "\n",
    "        create_dirs([config.root_dir])\n",
    "\n",
    "        data_ingestion_config = DataIngestionConfig(\n",
    "            root_dir = config.root_dir,\n",
    "            source_URL = config.source_URL,\n",
    "            local_data_file = config.local_data_file,\n",
    "            unzip_dir = config.unzip_dir \n",
    "        )\n",
    "\n",
    "        return data_ingestion_config"
   ]
  },
  {
   "cell_type": "code",
   "execution_count": 9,
   "id": "f9769988",
   "metadata": {},
   "outputs": [],
   "source": [
    "import os\n",
    "import urllib.request as request\n",
    "import zipfile\n",
    "from mlProject import logger\n",
    "from mlProject.utils.common import get_size"
   ]
  },
  {
   "cell_type": "code",
   "execution_count": 10,
   "id": "cc67061f",
   "metadata": {},
   "outputs": [],
   "source": [
    "class DataIngestion:\n",
    "    def __init__(self, config: DataIngestionConfig):\n",
    "        self.config = config\n",
    "\n",
    "\n",
    "    \n",
    "    def download_file(self):\n",
    "        if not os.path.exists(self.config.local_data_file):\n",
    "            filename, headers = request.urlretrieve(\n",
    "                url = self.config.source_URL,\n",
    "                filename = self.config.local_data_file\n",
    "            )\n",
    "            logger.info(f\"{filename} download! with following info: \\n{headers}\")\n",
    "        else:\n",
    "            logger.info(f\"File already exists of size: {get_size(Path(self.config.local_data_file))}\")\n",
    "\n",
    "\n",
    "\n",
    "    def extract_zip_file(self):\n",
    "        \"\"\"\n",
    "        zip_file_path: str\n",
    "        Extracts the zip file into the data directory\n",
    "        Function returns None\n",
    "        \"\"\"\n",
    "        unzip_path = self.config.unzip_dir\n",
    "        os.makedirs(unzip_path, exist_ok=True)\n",
    "        with zipfile.ZipFile(self.config.local_data_file, 'r') as zip_ref:\n",
    "            zip_ref.extractall(unzip_path)"
   ]
  },
  {
   "cell_type": "code",
   "execution_count": 11,
   "id": "10c3252a",
   "metadata": {},
   "outputs": [
    {
     "name": "stdout",
     "output_type": "stream",
     "text": [
      "[2025-04-09 16:19:19,564: INFO: common: yaml file: config\\config.yaml loaded successfully]\n",
      "[2025-04-09 16:19:19,570: INFO: common: yaml file: params.yaml loaded successfully]\n"
     ]
    },
    {
     "name": "stdout",
     "output_type": "stream",
     "text": [
      "[2025-04-09 16:19:19,576: INFO: common: yaml file: schema.yaml loaded successfully]\n",
      "[2025-04-09 16:19:19,580: INFO: common: created directory at: artifacts]\n",
      "[2025-04-09 16:19:19,583: INFO: common: created directory at: artifacts/data_ingestion]\n",
      "[2025-04-09 16:19:20,955: INFO: 2280763589: artifacts/data_ingestion/Paris_daily_air_quality.zip download! with following info: \n",
      "Connection: close\n",
      "Content-Length: 30811\n",
      "Cache-Control: max-age=300\n",
      "Content-Security-Policy: default-src 'none'; style-src 'unsafe-inline'; sandbox\n",
      "Content-Type: application/zip\n",
      "ETag: \"45708a86bfad6052728b7aa0dc4640aa1e872cae0c1075a7320e4fe9f2463346\"\n",
      "Strict-Transport-Security: max-age=31536000\n",
      "X-Content-Type-Options: nosniff\n",
      "X-Frame-Options: deny\n",
      "X-XSS-Protection: 1; mode=block\n",
      "X-GitHub-Request-Id: EEAB:24FA2C:43F6BC:489C41:67F681E7\n",
      "Accept-Ranges: bytes\n",
      "Date: Wed, 09 Apr 2025 14:19:20 GMT\n",
      "Via: 1.1 varnish\n",
      "X-Served-By: cache-par-lfpg1960081-PAR\n",
      "X-Cache: MISS\n",
      "X-Cache-Hits: 0\n",
      "X-Timer: S1744208360.011495,VS0,VE197\n",
      "Vary: Authorization,Accept-Encoding,Origin\n",
      "Access-Control-Allow-Origin: *\n",
      "Cross-Origin-Resource-Policy: cross-origin\n",
      "X-Fastly-Request-ID: 52025baff5bf4c5a5d169799a8f557b464af9ffc\n",
      "Expires: Wed, 09 Apr 2025 14:24:20 GMT\n",
      "Source-Age: 0\n",
      "\n",
      "]\n"
     ]
    }
   ],
   "source": [
    "try:\n",
    "    config = ConfigurationManager()\n",
    "    data_ingestion_config = config.get_data_ingestion_config()\n",
    "    data_ingestion = DataIngestion(config=data_ingestion_config)\n",
    "    data_ingestion.download_file()\n",
    "    data_ingestion.extract_zip_file()\n",
    "except Exception as e:\n",
    "    raise e"
   ]
  },
  {
   "cell_type": "code",
   "execution_count": null,
   "id": "8d3acbf9",
   "metadata": {},
   "outputs": [],
   "source": []
  }
 ],
 "metadata": {
  "kernelspec": {
   "display_name": "stenv",
   "language": "python",
   "name": "python3"
  },
  "language_info": {
   "codemirror_mode": {
    "name": "ipython",
    "version": 3
   },
   "file_extension": ".py",
   "mimetype": "text/x-python",
   "name": "python",
   "nbconvert_exporter": "python",
   "pygments_lexer": "ipython3",
   "version": "3.12.9"
  }
 },
 "nbformat": 4,
 "nbformat_minor": 5
}
